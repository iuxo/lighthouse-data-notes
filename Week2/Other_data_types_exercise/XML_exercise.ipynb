{
 "cells": [
  {
   "cell_type": "markdown",
   "metadata": {},
   "source": [
    "# XML exercise"
   ]
  },
  {
   "cell_type": "markdown",
   "metadata": {},
   "source": [
    "Using data from [**mondial database**](https://drive.google.com/file/d/14lFT4nWHgwN36ij4XZh6OUuup-K9qLgR/view?usp=sharing) find the answers to following questions:\n",
    "\n",
    "1. 10 countries with the lowest infant mortality rates\n",
    "2. 10 cities with the largest population\n",
    "3. name and country of a) longest river, b) largest lake and c) airport at highest elevation"
   ]
  },
  {
   "cell_type": "code",
   "execution_count": 1,
   "metadata": {},
   "outputs": [],
   "source": [
    "import xml.etree.ElementTree as ET\n",
    "import pandas as pd"
   ]
  },
  {
   "cell_type": "code",
   "execution_count": 2,
   "metadata": {},
   "outputs": [],
   "source": [
    "tree = ET.parse(\"mondial.xml\")"
   ]
  },
  {
   "cell_type": "code",
   "execution_count": 3,
   "metadata": {},
   "outputs": [
    {
     "data": {
      "text/plain": [
       "<Element 'mondial' at 0x00000208CFEE7E50>"
      ]
     },
     "execution_count": 3,
     "metadata": {},
     "output_type": "execute_result"
    }
   ],
   "source": [
    "root = tree.getroot()\n",
    "root"
   ]
  },
  {
   "cell_type": "code",
   "execution_count": 4,
   "metadata": {},
   "outputs": [
    {
     "name": "stdout",
     "output_type": "stream",
     "text": [
      "mondial\n",
      "{}\n",
      "3403\n"
     ]
    }
   ],
   "source": [
    "print(root.tag)\n",
    "print(root.attrib)\n",
    "print(len(root))"
   ]
  },
  {
   "cell_type": "code",
   "execution_count": 5,
   "metadata": {},
   "outputs": [
    {
     "name": "stdout",
     "output_type": "stream",
     "text": [
      "country\n",
      "name\n",
      "Greece\n",
      "4.78\n"
     ]
    }
   ],
   "source": [
    "# get some info\n",
    "\n",
    "# First child of the root\n",
    "country1 = root[1]\n",
    "# tag of child\n",
    "print(country1.tag)\n",
    "# First child of the child\n",
    "rank = country1[0]\n",
    "# print(country1[0].text)\n",
    "# What is the tag of the grandchild\n",
    "print(rank.tag)\n",
    "# What is the text inside this grandchild\n",
    "print(rank.text)\n",
    "# What are the attributes of 11th element?\n",
    "print(country1.find('infant_mortality').text)\n",
    "# print(country1[11].text)"
   ]
  },
  {
   "cell_type": "code",
   "execution_count": 15,
   "metadata": {},
   "outputs": [
    {
     "data": {
      "text/html": [
       "<div>\n",
       "<style scoped>\n",
       "    .dataframe tbody tr th:only-of-type {\n",
       "        vertical-align: middle;\n",
       "    }\n",
       "\n",
       "    .dataframe tbody tr th {\n",
       "        vertical-align: top;\n",
       "    }\n",
       "\n",
       "    .dataframe thead th {\n",
       "        text-align: right;\n",
       "    }\n",
       "</style>\n",
       "<table border=\"1\" class=\"dataframe\">\n",
       "  <thead>\n",
       "    <tr style=\"text-align: right;\">\n",
       "      <th></th>\n",
       "      <th>name</th>\n",
       "      <th>infant_mortality</th>\n",
       "    </tr>\n",
       "  </thead>\n",
       "  <tbody>\n",
       "    <tr>\n",
       "      <th>38</th>\n",
       "      <td>Monaco</td>\n",
       "      <td>1.81</td>\n",
       "    </tr>\n",
       "    <tr>\n",
       "      <th>98</th>\n",
       "      <td>Japan</td>\n",
       "      <td>2.13</td>\n",
       "    </tr>\n",
       "    <tr>\n",
       "      <th>36</th>\n",
       "      <td>Norway</td>\n",
       "      <td>2.48</td>\n",
       "    </tr>\n",
       "    <tr>\n",
       "      <th>117</th>\n",
       "      <td>Bermuda</td>\n",
       "      <td>2.48</td>\n",
       "    </tr>\n",
       "    <tr>\n",
       "      <th>106</th>\n",
       "      <td>Singapore</td>\n",
       "      <td>2.53</td>\n",
       "    </tr>\n",
       "    <tr>\n",
       "      <th>37</th>\n",
       "      <td>Sweden</td>\n",
       "      <td>2.60</td>\n",
       "    </tr>\n",
       "    <tr>\n",
       "      <th>10</th>\n",
       "      <td>Czech Republic</td>\n",
       "      <td>2.63</td>\n",
       "    </tr>\n",
       "    <tr>\n",
       "      <th>8</th>\n",
       "      <td>Spain</td>\n",
       "      <td>2.70</td>\n",
       "    </tr>\n",
       "    <tr>\n",
       "      <th>78</th>\n",
       "      <td>Hong Kong</td>\n",
       "      <td>2.73</td>\n",
       "    </tr>\n",
       "    <tr>\n",
       "      <th>79</th>\n",
       "      <td>Macao</td>\n",
       "      <td>3.13</td>\n",
       "    </tr>\n",
       "  </tbody>\n",
       "</table>\n",
       "</div>"
      ],
      "text/plain": [
       "               name  infant_mortality\n",
       "38           Monaco              1.81\n",
       "98            Japan              2.13\n",
       "36           Norway              2.48\n",
       "117         Bermuda              2.48\n",
       "106       Singapore              2.53\n",
       "37           Sweden              2.60\n",
       "10   Czech Republic              2.63\n",
       "8             Spain              2.70\n",
       "78        Hong Kong              2.73\n",
       "79            Macao              3.13"
      ]
     },
     "execution_count": 15,
     "metadata": {},
     "output_type": "execute_result"
    }
   ],
   "source": [
    "# get 10 countries with the lowest infant mortality rates\n",
    "\n",
    "mondial_dict = {'name': [],\n",
    "            'infant_mortality': []}\n",
    "\n",
    "for country in root:\n",
    "    name_value = country.find('name').text\n",
    "    mondial_dict['name'].append(name_value)\n",
    "\n",
    "    infant_mortality = country.find('infant_mortality')\n",
    "    if infant_mortality is None:\n",
    "        mondial_dict['infant_mortality'].append(None)\n",
    "    else:\n",
    "        mondial_dict['infant_mortality'].append(float(infant_mortality.text))\n",
    "\n",
    "df = pd.DataFrame(mondial_dict)\n",
    "df.nsmallest(10, 'infant_mortality', keep='all')"
   ]
  },
  {
   "cell_type": "code",
   "execution_count": 29,
   "metadata": {},
   "outputs": [
    {
     "data": {
      "text/html": [
       "<div>\n",
       "<style scoped>\n",
       "    .dataframe tbody tr th:only-of-type {\n",
       "        vertical-align: middle;\n",
       "    }\n",
       "\n",
       "    .dataframe tbody tr th {\n",
       "        vertical-align: top;\n",
       "    }\n",
       "\n",
       "    .dataframe thead th {\n",
       "        text-align: right;\n",
       "    }\n",
       "</style>\n",
       "<table border=\"1\" class=\"dataframe\">\n",
       "  <thead>\n",
       "    <tr style=\"text-align: right;\">\n",
       "      <th></th>\n",
       "      <th>year</th>\n",
       "      <th>measured</th>\n",
       "      <th>population</th>\n",
       "    </tr>\n",
       "    <tr>\n",
       "      <th>city</th>\n",
       "      <th></th>\n",
       "      <th></th>\n",
       "      <th></th>\n",
       "    </tr>\n",
       "  </thead>\n",
       "  <tbody>\n",
       "    <tr>\n",
       "      <th>Seoul</th>\n",
       "      <td>2015</td>\n",
       "      <td>census</td>\n",
       "      <td>9805506</td>\n",
       "    </tr>\n",
       "    <tr>\n",
       "      <th>Al Qahirah</th>\n",
       "      <td>2006</td>\n",
       "      <td>census</td>\n",
       "      <td>8471859</td>\n",
       "    </tr>\n",
       "    <tr>\n",
       "      <th>Bangkok</th>\n",
       "      <td>2010</td>\n",
       "      <td>census</td>\n",
       "      <td>8305218</td>\n",
       "    </tr>\n",
       "    <tr>\n",
       "      <th>Hong Kong</th>\n",
       "      <td>2009</td>\n",
       "      <td>None</td>\n",
       "      <td>7055071</td>\n",
       "    </tr>\n",
       "    <tr>\n",
       "      <th>Singapore</th>\n",
       "      <td>2010</td>\n",
       "      <td>census</td>\n",
       "      <td>5076700</td>\n",
       "    </tr>\n",
       "    <tr>\n",
       "      <th>Al Iskandariyah</th>\n",
       "      <td>2006</td>\n",
       "      <td>census</td>\n",
       "      <td>4123869</td>\n",
       "    </tr>\n",
       "    <tr>\n",
       "      <th>New Taipei</th>\n",
       "      <td>2012</td>\n",
       "      <td>estimate</td>\n",
       "      <td>3939305</td>\n",
       "    </tr>\n",
       "    <tr>\n",
       "      <th>Busan</th>\n",
       "      <td>2015</td>\n",
       "      <td>census</td>\n",
       "      <td>3440484</td>\n",
       "    </tr>\n",
       "    <tr>\n",
       "      <th>Pyongyang</th>\n",
       "      <td>2008</td>\n",
       "      <td>census</td>\n",
       "      <td>3255288</td>\n",
       "    </tr>\n",
       "    <tr>\n",
       "      <th>Nairobi</th>\n",
       "      <td>2009</td>\n",
       "      <td>census</td>\n",
       "      <td>3133518</td>\n",
       "    </tr>\n",
       "  </tbody>\n",
       "</table>\n",
       "</div>"
      ],
      "text/plain": [
       "                 year  measured  population\n",
       "city                                       \n",
       "Seoul            2015    census     9805506\n",
       "Al Qahirah       2006    census     8471859\n",
       "Bangkok          2010    census     8305218\n",
       "Hong Kong        2009      None     7055071\n",
       "Singapore        2010    census     5076700\n",
       "Al Iskandariyah  2006    census     4123869\n",
       "New Taipei       2012  estimate     3939305\n",
       "Busan            2015    census     3440484\n",
       "Pyongyang        2008    census     3255288\n",
       "Nairobi          2009    census     3133518"
      ]
     },
     "execution_count": 29,
     "metadata": {},
     "output_type": "execute_result"
    }
   ],
   "source": [
    "# 10 cities with the largest population\n",
    "\n",
    "mondial_dict = {'city': [],\n",
    "                'year': [],\n",
    "                'measured': [],\n",
    "                'population': []}\n",
    "\n",
    "for city in root.findall(\"./country/city\"):\n",
    "    cityname = city.find('name').text\n",
    "    \n",
    "    for population in city.findall(\"./population\"):\n",
    "        population_value = int(population.text)\n",
    "        year = int(population.attrib['year'])\n",
    "        measured = None\n",
    "        try:\n",
    "            measured = population.attrib['measured']\n",
    "        except:\n",
    "            pass\n",
    "        mondial_dict['measured'].append(measured)\n",
    "        mondial_dict['city'].append(cityname)\n",
    "        mondial_dict['year'].append(year)\n",
    "        mondial_dict['population'].append(population_value)\n",
    "\n",
    "df = pd.DataFrame(mondial_dict)\n",
    "df.sort_values(by=['city', 'year'], ascending=[True, True])\n",
    "df.groupby(by=['city']).last().nlargest(10,'population')\n",
    "\n"
   ]
  },
  {
   "cell_type": "code",
   "execution_count": 43,
   "metadata": {},
   "outputs": [
    {
     "data": {
      "text/html": [
       "<div>\n",
       "<style scoped>\n",
       "    .dataframe tbody tr th:only-of-type {\n",
       "        vertical-align: middle;\n",
       "    }\n",
       "\n",
       "    .dataframe tbody tr th {\n",
       "        vertical-align: top;\n",
       "    }\n",
       "\n",
       "    .dataframe thead th {\n",
       "        text-align: right;\n",
       "    }\n",
       "</style>\n",
       "<table border=\"1\" class=\"dataframe\">\n",
       "  <thead>\n",
       "    <tr style=\"text-align: right;\">\n",
       "      <th></th>\n",
       "      <th>name</th>\n",
       "      <th>country</th>\n",
       "      <th>length</th>\n",
       "    </tr>\n",
       "  </thead>\n",
       "  <tbody>\n",
       "    <tr>\n",
       "      <th>214</th>\n",
       "      <td>Yangtze</td>\n",
       "      <td>CN</td>\n",
       "      <td>6380.0</td>\n",
       "    </tr>\n",
       "  </tbody>\n",
       "</table>\n",
       "</div>"
      ],
      "text/plain": [
       "        name country  length\n",
       "214  Yangtze      CN  6380.0"
      ]
     },
     "execution_count": 43,
     "metadata": {},
     "output_type": "execute_result"
    }
   ],
   "source": [
    "# name and country of a) longest river, b) largest lake and \n",
    "# c) airport at highest elevation\n",
    "\n",
    "# a) longest river\n",
    "\n",
    "mondial_dict = {'name': [],\n",
    "                'country': [],\n",
    "                'length': []}\n",
    "\n",
    "for river in root.findall(\"./river\"):\n",
    "    name_value = river.find('name').text\n",
    "    country_value = river.attrib['country']\n",
    "    length_value = river.find('length')\n",
    "    \n",
    "    if length_value is not None:\n",
    "        mondial_dict['length'].append(float(length_value.text))\n",
    "    else:\n",
    "        mondial_dict['length'].append(None)\n",
    "\n",
    "    mondial_dict['name'].append(name_value)\n",
    "    mondial_dict['country'].append(country_value)\n",
    "\n",
    "df = pd.DataFrame(mondial_dict)\n",
    "df\n",
    "df.nlargest(1,'length')\n"
   ]
  },
  {
   "cell_type": "code",
   "execution_count": 44,
   "metadata": {},
   "outputs": [
    {
     "data": {
      "text/html": [
       "<div>\n",
       "<style scoped>\n",
       "    .dataframe tbody tr th:only-of-type {\n",
       "        vertical-align: middle;\n",
       "    }\n",
       "\n",
       "    .dataframe tbody tr th {\n",
       "        vertical-align: top;\n",
       "    }\n",
       "\n",
       "    .dataframe thead th {\n",
       "        text-align: right;\n",
       "    }\n",
       "</style>\n",
       "<table border=\"1\" class=\"dataframe\">\n",
       "  <thead>\n",
       "    <tr style=\"text-align: right;\">\n",
       "      <th></th>\n",
       "      <th>name</th>\n",
       "      <th>country</th>\n",
       "      <th>area</th>\n",
       "    </tr>\n",
       "  </thead>\n",
       "  <tbody>\n",
       "    <tr>\n",
       "      <th>59</th>\n",
       "      <td>Caspian Sea</td>\n",
       "      <td>R AZ KAZ IR TM</td>\n",
       "      <td>386400.0</td>\n",
       "    </tr>\n",
       "  </tbody>\n",
       "</table>\n",
       "</div>"
      ],
      "text/plain": [
       "           name         country      area\n",
       "59  Caspian Sea  R AZ KAZ IR TM  386400.0"
      ]
     },
     "execution_count": 44,
     "metadata": {},
     "output_type": "execute_result"
    }
   ],
   "source": [
    "# b) largest lake\n",
    "\n",
    "mondial_dict = {'name': [],\n",
    "                'country': [],\n",
    "                'area': []}\n",
    "\n",
    "for lake in root.findall(\"./lake\"):\n",
    "    name = lake.find('name').text\n",
    "    country = lake.attrib['country']\n",
    "    area = lake.find('area')\n",
    "\n",
    "    if area is not None:\n",
    "        mondial_dict['area'].append(float(area.text))\n",
    "    else:\n",
    "        mondial_dict['area'].append(None)\n",
    "\n",
    "    mondial_dict['name'].append(name)\n",
    "    mondial_dict['country'].append(country)\n",
    "\n",
    "df = pd.DataFrame(mondial_dict)\n",
    "df.nlargest(1,'area')"
   ]
  },
  {
   "cell_type": "code",
   "execution_count": 48,
   "metadata": {},
   "outputs": [
    {
     "data": {
      "text/html": [
       "<div>\n",
       "<style scoped>\n",
       "    .dataframe tbody tr th:only-of-type {\n",
       "        vertical-align: middle;\n",
       "    }\n",
       "\n",
       "    .dataframe tbody tr th {\n",
       "        vertical-align: top;\n",
       "    }\n",
       "\n",
       "    .dataframe thead th {\n",
       "        text-align: right;\n",
       "    }\n",
       "</style>\n",
       "<table border=\"1\" class=\"dataframe\">\n",
       "  <thead>\n",
       "    <tr style=\"text-align: right;\">\n",
       "      <th></th>\n",
       "      <th>name</th>\n",
       "      <th>country</th>\n",
       "      <th>elevation</th>\n",
       "    </tr>\n",
       "  </thead>\n",
       "  <tbody>\n",
       "    <tr>\n",
       "      <th>81</th>\n",
       "      <td>El Alto Intl</td>\n",
       "      <td>BOL</td>\n",
       "      <td>4063.0</td>\n",
       "    </tr>\n",
       "  </tbody>\n",
       "</table>\n",
       "</div>"
      ],
      "text/plain": [
       "            name country  elevation\n",
       "81  El Alto Intl     BOL     4063.0"
      ]
     },
     "execution_count": 48,
     "metadata": {},
     "output_type": "execute_result"
    }
   ],
   "source": [
    "# c) airport at highest elevation\n",
    "\n",
    "mondial_dict = {'name': [],\n",
    "                'country': [],\n",
    "                'elevation': []}\n",
    "\n",
    "for airport in root.findall(\"./airport\"):\n",
    "    name = airport.find('name').text\n",
    "    country = airport.attrib['country']\n",
    "    elevation = airport.find('elevation')\n",
    "\n",
    "    if elevation is not None:\n",
    "        mondial_dict['elevation'].append(float(elevation.text))\n",
    "    else:\n",
    "        mondial_dict['elevation'].append(None)\n",
    "\n",
    "    mondial_dict['name'].append(name)\n",
    "    mondial_dict['country'].append(country)\n",
    "\n",
    "df = pd.DataFrame(mondial_dict)\n",
    "df.nlargest(1,'elevation')"
   ]
  },
  {
   "cell_type": "code",
   "execution_count": null,
   "metadata": {},
   "outputs": [],
   "source": []
  }
 ],
 "metadata": {
  "anaconda-cloud": {},
  "kernelspec": {
   "display_name": "Python 3.8.13 ('THE_ONE')",
   "language": "python",
   "name": "python3"
  },
  "language_info": {
   "codemirror_mode": {
    "name": "ipython",
    "version": 3
   },
   "file_extension": ".py",
   "mimetype": "text/x-python",
   "name": "python",
   "nbconvert_exporter": "python",
   "pygments_lexer": "ipython3",
   "version": "3.8.13"
  },
  "vscode": {
   "interpreter": {
    "hash": "ba21b04416bd6bb7d943d6e1e30db1b014094e2c4596ae230c1b8e6f1c8e2c12"
   }
  }
 },
 "nbformat": 4,
 "nbformat_minor": 4
}
