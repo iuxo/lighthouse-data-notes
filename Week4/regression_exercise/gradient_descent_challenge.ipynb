{
 "cells": [
  {
   "cell_type": "markdown",
   "metadata": {},
   "source": [
    "## Optimization exercise"
   ]
  },
  {
   "cell_type": "markdown",
   "metadata": {},
   "source": [
    "**Goal: Train the 2nd order polynomial predictor using gradient descent. Optimize the stepsizes and compare against scikit-learn's implementation.**"
   ]
  },
  {
   "cell_type": "code",
   "execution_count": 2,
   "metadata": {},
   "outputs": [],
   "source": [
    "# IMPORT PACKAGES\n",
    "import numpy as np\n",
    "import pandas as pd\n",
    "import matplotlib.pyplot as plt\n",
    "import matplotlib.animation as animation"
   ]
  },
  {
   "cell_type": "code",
   "execution_count": 3,
   "metadata": {},
   "outputs": [],
   "source": [
    "data_path = ''\n",
    "nb = pd.read_csv(data_path+'nba_games_2013_2015.csv', delimiter=';')\n",
    "x = nb[['AST','REB','STL']]\n",
    "y = nb['PTS']"
   ]
  },
  {
   "cell_type": "code",
   "execution_count": null,
   "metadata": {},
   "outputs": [],
   "source": []
  },
  {
   "cell_type": "markdown",
   "metadata": {},
   "source": [
    "#### Task I\n",
    "Download the data from [here](https://drive.google.com/file/d/0Bz9_0VdXvv9bUUNlUTVrMF9VcVU/view?usp=sharing&resourcekey=0-16O9Fc5eaJH99-M7AHqHOg)."
   ]
  },
  {
   "cell_type": "code",
   "execution_count": 4,
   "metadata": {},
   "outputs": [
    {
     "data": {
      "text/html": [
       "<div>\n",
       "<style scoped>\n",
       "    .dataframe tbody tr th:only-of-type {\n",
       "        vertical-align: middle;\n",
       "    }\n",
       "\n",
       "    .dataframe tbody tr th {\n",
       "        vertical-align: top;\n",
       "    }\n",
       "\n",
       "    .dataframe thead th {\n",
       "        text-align: right;\n",
       "    }\n",
       "</style>\n",
       "<table border=\"1\" class=\"dataframe\">\n",
       "  <thead>\n",
       "    <tr style=\"text-align: right;\">\n",
       "      <th></th>\n",
       "      <th>AST</th>\n",
       "      <th>REB</th>\n",
       "      <th>STL</th>\n",
       "    </tr>\n",
       "  </thead>\n",
       "  <tbody>\n",
       "    <tr>\n",
       "      <th>0</th>\n",
       "      <td>41</td>\n",
       "      <td>43</td>\n",
       "      <td>14</td>\n",
       "    </tr>\n",
       "    <tr>\n",
       "      <th>1</th>\n",
       "      <td>23</td>\n",
       "      <td>43</td>\n",
       "      <td>8</td>\n",
       "    </tr>\n",
       "    <tr>\n",
       "      <th>2</th>\n",
       "      <td>20</td>\n",
       "      <td>39</td>\n",
       "      <td>7</td>\n",
       "    </tr>\n",
       "    <tr>\n",
       "      <th>3</th>\n",
       "      <td>19</td>\n",
       "      <td>47</td>\n",
       "      <td>6</td>\n",
       "    </tr>\n",
       "    <tr>\n",
       "      <th>4</th>\n",
       "      <td>21</td>\n",
       "      <td>43</td>\n",
       "      <td>4</td>\n",
       "    </tr>\n",
       "    <tr>\n",
       "      <th>...</th>\n",
       "      <td>...</td>\n",
       "      <td>...</td>\n",
       "      <td>...</td>\n",
       "    </tr>\n",
       "    <tr>\n",
       "      <th>7375</th>\n",
       "      <td>17</td>\n",
       "      <td>39</td>\n",
       "      <td>10</td>\n",
       "    </tr>\n",
       "    <tr>\n",
       "      <th>7376</th>\n",
       "      <td>26</td>\n",
       "      <td>40</td>\n",
       "      <td>10</td>\n",
       "    </tr>\n",
       "    <tr>\n",
       "      <th>7377</th>\n",
       "      <td>23</td>\n",
       "      <td>52</td>\n",
       "      <td>8</td>\n",
       "    </tr>\n",
       "    <tr>\n",
       "      <th>7378</th>\n",
       "      <td>23</td>\n",
       "      <td>41</td>\n",
       "      <td>11</td>\n",
       "    </tr>\n",
       "    <tr>\n",
       "      <th>7379</th>\n",
       "      <td>17</td>\n",
       "      <td>44</td>\n",
       "      <td>4</td>\n",
       "    </tr>\n",
       "  </tbody>\n",
       "</table>\n",
       "<p>7380 rows × 3 columns</p>\n",
       "</div>"
      ],
      "text/plain": [
       "      AST  REB  STL\n",
       "0      41   43   14\n",
       "1      23   43    8\n",
       "2      20   39    7\n",
       "3      19   47    6\n",
       "4      21   43    4\n",
       "...   ...  ...  ...\n",
       "7375   17   39   10\n",
       "7376   26   40   10\n",
       "7377   23   52    8\n",
       "7378   23   41   11\n",
       "7379   17   44    4\n",
       "\n",
       "[7380 rows x 3 columns]"
      ]
     },
     "execution_count": 4,
     "metadata": {},
     "output_type": "execute_result"
    }
   ],
   "source": [
    "# display data\n",
    "x"
   ]
  },
  {
   "cell_type": "code",
   "execution_count": 5,
   "metadata": {},
   "outputs": [
    {
     "data": {
      "text/plain": [
       "0       144\n",
       "1        92\n",
       "2        98\n",
       "3       101\n",
       "4       110\n",
       "       ... \n",
       "7375     87\n",
       "7376    107\n",
       "7377    116\n",
       "7378     95\n",
       "7379     97\n",
       "Name: PTS, Length: 7380, dtype: int64"
      ]
     },
     "execution_count": 5,
     "metadata": {},
     "output_type": "execute_result"
    }
   ],
   "source": [
    "y"
   ]
  },
  {
   "cell_type": "markdown",
   "metadata": {},
   "source": [
    "\n",
    "#### TASK II\n",
    "Create a function `psi(x)`, which transforms features AST (assists), REB (rebounds) and STL (steals) into 2nd order polynomial features (add each feature squared and each pair of features multiplied with every other)\n",
    "\n",
    "**Input:** DataFrame x from above. It contains columns AST, REB, STL\n",
    "\n",
    "**Output:** DataFrame with columns: AST, REB, STL, 1, AST^2, REB^2, STL^2, ASTSTL, REBSTL, ASTREB. The number of rows should be the same as Input."
   ]
  },
  {
   "cell_type": "code",
   "execution_count": 6,
   "metadata": {},
   "outputs": [
    {
     "data": {
      "text/plain": [
       "0       41\n",
       "1       23\n",
       "2       20\n",
       "3       19\n",
       "4       21\n",
       "        ..\n",
       "7375    17\n",
       "7376    26\n",
       "7377    23\n",
       "7378    23\n",
       "7379    17\n",
       "Name: AST, Length: 7380, dtype: int64"
      ]
     },
     "execution_count": 6,
     "metadata": {},
     "output_type": "execute_result"
    }
   ],
   "source": [
    "x['AST']"
   ]
  },
  {
   "cell_type": "code",
   "execution_count": 7,
   "metadata": {},
   "outputs": [
    {
     "data": {
      "text/plain": [
       "0       14\n",
       "1        8\n",
       "2        7\n",
       "3        6\n",
       "4        4\n",
       "        ..\n",
       "7375    10\n",
       "7376    10\n",
       "7377     8\n",
       "7378    11\n",
       "7379     4\n",
       "Name: STL, Length: 7380, dtype: int64"
      ]
     },
     "execution_count": 7,
     "metadata": {},
     "output_type": "execute_result"
    }
   ],
   "source": [
    "x['STL']"
   ]
  },
  {
   "cell_type": "code",
   "execution_count": 8,
   "metadata": {},
   "outputs": [
    {
     "data": {
      "text/plain": [
       "0       574\n",
       "1       184\n",
       "2       140\n",
       "3       114\n",
       "4        84\n",
       "       ... \n",
       "7375    170\n",
       "7376    260\n",
       "7377    184\n",
       "7378    253\n",
       "7379     68\n",
       "Length: 7380, dtype: int64"
      ]
     },
     "execution_count": 8,
     "metadata": {},
     "output_type": "execute_result"
    }
   ],
   "source": [
    "# x['AST']\n",
    "x['AST'].mul(x['STL'], axis=0)"
   ]
  },
  {
   "cell_type": "code",
   "execution_count": 9,
   "metadata": {},
   "outputs": [],
   "source": [
    "# call mentor about this challenge\n",
    "\n",
    "def psi(x):\n",
    "    # make a copy of df to return\n",
    "    copy = x.copy()\n",
    "    copy['1'] = np.ones(copy.shape[0])\n",
    "\n",
    "    # add the new data to the existing df\n",
    "    copy['AST^2'] = np.power(copy['AST'], 2)\n",
    "    copy['REB^2'] = np.power(copy['REB'], 2)\n",
    "    copy['STL^2'] = np.power(copy['STL'], 2)\n",
    "\n",
    "    copy['ASTSTL'] = copy['AST'].mul(copy['STL'], axis=0)\n",
    "    copy['REBSTL'] = copy['REB'].mul(copy['STL'], axis=0)\n",
    "    copy['ASTREB'] = copy['AST'].mul(copy['REB'], axis=0)     \n",
    "    return copy"
   ]
  },
  {
   "cell_type": "markdown",
   "metadata": {},
   "source": [
    "#### Task III\n",
    "Create a transformed data matrix **X**, where each **x** is mapped to psi(x).\n",
    "\n",
    "HINT: We need to apply our function from Task II to matrix (DataFrame) x"
   ]
  },
  {
   "cell_type": "code",
   "execution_count": 10,
   "metadata": {},
   "outputs": [],
   "source": [
    "X = psi(x)"
   ]
  },
  {
   "cell_type": "code",
   "execution_count": 11,
   "metadata": {},
   "outputs": [
    {
     "data": {
      "text/plain": [
       "(7380, 10)"
      ]
     },
     "execution_count": 11,
     "metadata": {},
     "output_type": "execute_result"
    }
   ],
   "source": [
    "X.shape"
   ]
  },
  {
   "cell_type": "markdown",
   "metadata": {},
   "source": [
    "#### Task IV\n",
    "Create a function `p2(x,w)`, which outputs the value of the polynomial ata given row of `x` for given parameters `w`.\n",
    "\n",
    "Inputs:\n",
    "- x: DataFrame from above\n",
    "- w: vector which represents beta coeficients for each column of X from the Task III.\n",
    "\n",
    "Ouputs:\n",
    "- Series of the same length as DataFrame x. Each value is a dot product of particular row in DataFrame and coeficients `w`.\n",
    "\n",
    "\n",
    "HINT:\n",
    "- length of w needs to be the same as number of columns of the dataframe that is returned from function `psi(x)`\n",
    "\n",
    "Example Input:\n",
    "\n",
    "`p2(x, [0.06, 0.05,0.03,0.01,0.02,0.02,0.04, 0.03,0.02,0.01])`\n",
    "\n",
    "Example Output:\n",
    "\n",
    "```\n",
    "0       130.37\n",
    "1        76.19\n",
    "2        61.21\n",
    "3        74.51\n",
    "4        64.97\n",
    "         ...  \n",
    "7375     63.01\n",
    "7376     79.59\n",
    "7377     97.25\n",
    "7378     78.85\n",
    "7379     61.53\n",
    "Length: 7380, dtype: float64\n",
    "\n",
    "```\n",
    "\n",
    "Our columns in the DataFrame **X** that is the output of `psi(x)` were in this order: `AST, REB, STL, 1, AST^2, REB^2, STL^2, ASTSTL, REBSTL, ASTREB`. If your columns are in different order the result can be different even for the **w**."
   ]
  },
  {
   "cell_type": "code",
   "execution_count": 12,
   "metadata": {},
   "outputs": [],
   "source": [
    "def p2(x,w):\n",
    "    return x.dot(w)"
   ]
  },
  {
   "cell_type": "code",
   "execution_count": 13,
   "metadata": {},
   "outputs": [
    {
     "data": {
      "text/plain": [
       "0       130.37\n",
       "1        76.19\n",
       "2        61.21\n",
       "3        74.51\n",
       "4        64.97\n",
       "         ...  \n",
       "7375     63.01\n",
       "7376     79.59\n",
       "7377     97.25\n",
       "7378     78.85\n",
       "7379     61.53\n",
       "Length: 7380, dtype: float64"
      ]
     },
     "execution_count": 13,
     "metadata": {},
     "output_type": "execute_result"
    }
   ],
   "source": [
    "p2(X, [0.06, 0.05, 0.03, 0.01, 0.02, 0.02, 0.04, 0.03, 0.02, 0.01])"
   ]
  },
  {
   "cell_type": "markdown",
   "metadata": {},
   "source": [
    "#### Task V\n",
    "Create a function `Loss(x,y,w)`, which computes the squared loss of predicting **y** from **x** by `p2(x,w)` using parameters **w**. We have specified **y** as the variable PTS above. We will predict scored points (PTS) based on assists, rebounds and steals.\n",
    "\n",
    "\n",
    "HINTS: \n",
    "- Output of `p2(x,w)` represents our predictions. `y_pred = p2(x,w)`\n",
    "- Loss can be computed as:\n",
    "\n",
    "```\n",
    "np.mean((y_pred - y)**2)\n",
    "```"
   ]
  },
  {
   "cell_type": "code",
   "execution_count": 14,
   "metadata": {},
   "outputs": [],
   "source": [
    "def Loss(x, y, w):\n",
    "    return np.mean((p2(x,w) - y)**2)"
   ]
  },
  {
   "cell_type": "code",
   "execution_count": null,
   "metadata": {},
   "outputs": [],
   "source": []
  },
  {
   "cell_type": "markdown",
   "metadata": {},
   "source": [
    "#### Task VI\n",
    "Code up the gradient descent. It should input **x**, target variable **y**, stepsize **alpha**, coeficients **w** and **maximum number of iterations**.\n",
    "\n",
    "Steps:\n",
    "1. transform input `x`\n",
    "2. compute initial loss for given, x,y and w and append it to the empty list.\n",
    "3. Inside the for loop, update each element of **w**, **w[i]**, using gradient descent.\n",
    "\n",
    "HINT: `w[i] = w[i] - alpha * (1.0 / m) * errors_i.sum()` where `errors_i = (y_pred - y) * X.iloc[:, i]`. We are scaling the errors by multiplicating with values that are relevant for coeficients `w[i]` (column `i` of DataFrame `X`, output of `psi(x)`).\n",
    "\n",
    "4. compute new loss using updated `w` and append to the list that we created in the step 2.\n",
    "5. repeat steps 3 and 4 for max number of iterations times."
   ]
  },
  {
   "cell_type": "code",
   "execution_count": 24,
   "metadata": {},
   "outputs": [],
   "source": [
    "m = y.size\n",
    "\n",
    "def my_descent(x, y, alpha, w, iter):\n",
    "    # prep empty lists\n",
    "    lst = []\n",
    "    # step 1\n",
    "    transformed = psi(x)\n",
    "    # step 2\n",
    "    lst.append(Loss(transformed,y,w))\n",
    "    # repeat steps for max num iter\n",
    "    for i in range(iter):\n",
    "        pred = p2(transformed,w)\n",
    "        # step 3\n",
    "        for coef in range(len(w)):\n",
    "            # step 4\n",
    "            error = (pred - y).dot(transformed.iloc[:,coef])\n",
    "            errors = error.sum()\n",
    "            w[coef] = w[coef] - alpha * (1.0/m) * errors\n",
    "        lst.append(Loss(transformed,y,w))\n",
    "    return lst"
   ]
  },
  {
   "cell_type": "code",
   "execution_count": null,
   "metadata": {},
   "outputs": [],
   "source": []
  },
  {
   "cell_type": "markdown",
   "metadata": {},
   "source": [
    "#### Task VII\n",
    "Choose an arbitrary **w** and **alpha** and run gradient descent for 100 iterations. How does the loss behave? Does it converge to something?\n"
   ]
  },
  {
   "cell_type": "code",
   "execution_count": 25,
   "metadata": {},
   "outputs": [
    {
     "data": {
      "text/plain": [
       "[891.9364108807587,\n",
       " 12217158149.208988,\n",
       " 3.4784046044396314e+17,\n",
       " 9.903914693999095e+24,\n",
       " 2.8198998995089725e+32,\n",
       " 8.028982164122205e+39,\n",
       " 2.2860582605438562e+47,\n",
       " 6.508997359532879e+54,\n",
       " 1.8532793917652294e+62,\n",
       " 5.276764322098587e+69,\n",
       " 1.5024308711732462e+77,\n",
       " 4.277808112825974e+84,\n",
       " 1.2180022789247905e+92,\n",
       " 3.467966566845245e+99,\n",
       " 9.874195078988864e+106,\n",
       " 2.811437958775423e+114,\n",
       " 8.004888836825293e+121,\n",
       " 2.279198268982632e+129,\n",
       " 6.489465194614301e+136,\n",
       " 1.8477180807490043e+144,\n",
       " 5.260929835574382e+151,\n",
       " 1.4979223845456544e+159,\n",
       " 4.264971288821542e+166,\n",
       " 1.2143473041154545e+174,\n",
       " 3.457559911077219e+181,\n",
       " 9.844564646517067e+188,\n",
       " 2.8030014105889876e+196,\n",
       " 7.980867808657785e+203,\n",
       " 2.272358862847882e+211,\n",
       " 6.4699916417131315e+218,\n",
       " 1.8421734580855275e+226,\n",
       " 5.245142865093761e+233,\n",
       " 1.4934274269609364e+241,\n",
       " 4.2521729854908226e+248,\n",
       " 1.2107032971352323e+256,\n",
       " 3.4471844835468913e+263,\n",
       " 9.815023128890636e+270,\n",
       " 2.7945901787518173e+278,\n",
       " 7.956918862664801e+285,\n",
       " 2.265539980366962e+293,\n",
       " 6.450576524946719e+300,\n",
       " inf,\n",
       " inf,\n",
       " inf,\n",
       " inf,\n",
       " inf,\n",
       " inf,\n",
       " inf,\n",
       " inf,\n",
       " inf,\n",
       " inf,\n",
       " inf,\n",
       " inf,\n",
       " inf,\n",
       " inf,\n",
       " inf,\n",
       " inf,\n",
       " inf,\n",
       " inf,\n",
       " inf,\n",
       " inf,\n",
       " inf,\n",
       " inf,\n",
       " inf,\n",
       " inf,\n",
       " inf,\n",
       " inf,\n",
       " inf,\n",
       " inf,\n",
       " inf,\n",
       " inf,\n",
       " inf,\n",
       " inf,\n",
       " inf,\n",
       " inf,\n",
       " inf,\n",
       " inf,\n",
       " inf,\n",
       " inf,\n",
       " inf,\n",
       " inf,\n",
       " inf,\n",
       " inf,\n",
       " nan,\n",
       " nan,\n",
       " nan,\n",
       " nan,\n",
       " nan,\n",
       " nan,\n",
       " nan,\n",
       " nan,\n",
       " nan,\n",
       " nan,\n",
       " nan,\n",
       " nan,\n",
       " nan,\n",
       " nan,\n",
       " nan,\n",
       " nan,\n",
       " nan,\n",
       " nan]"
      ]
     },
     "execution_count": 25,
     "metadata": {},
     "output_type": "execute_result"
    }
   ],
   "source": [
    "w = [0.06, 0.05, 0.03, 0.01, 0.02, 0.02, 0.04, 0.03, 0.02, 0.01]\n",
    "my_descent(x, y, 0.001, w, 100)"
   ]
  },
  {
   "cell_type": "code",
   "execution_count": null,
   "metadata": {},
   "outputs": [],
   "source": []
  },
  {
   "cell_type": "markdown",
   "metadata": {},
   "source": [
    "#### Task VIII\n",
    "Can you find which **alpha** from `[1, 0.1, 0.01, 0.001, 0.0001, 0.00001, 0.000001, 0.0000001, 0.00000001]` has the smallest loss after 100 iterations for a given **w**?"
   ]
  },
  {
   "cell_type": "code",
   "execution_count": 27,
   "metadata": {},
   "outputs": [
    {
     "name": "stdout",
     "output_type": "stream",
     "text": [
      "nan\n",
      "nan\n",
      "nan\n",
      "nan\n",
      "nan\n",
      "nan\n",
      "nan\n",
      "nan\n",
      "nan\n"
     ]
    }
   ],
   "source": [
    "alphas = [1, 0.1, 0.01, 0.001, 0.0001, 0.00001, 0.000001, 0.0000001, 0.00000001]\n",
    "for alpha in alphas:\n",
    "    print(my_descent(x, y, alpha, w, 100)[-1])"
   ]
  },
  {
   "cell_type": "code",
   "execution_count": null,
   "metadata": {},
   "outputs": [],
   "source": []
  },
  {
   "cell_type": "code",
   "execution_count": null,
   "metadata": {},
   "outputs": [],
   "source": []
  }
 ],
 "metadata": {
  "kernelspec": {
   "display_name": "Python 3.8.13 ('THE_ONE')",
   "language": "python",
   "name": "python3"
  },
  "language_info": {
   "codemirror_mode": {
    "name": "ipython",
    "version": 3
   },
   "file_extension": ".py",
   "mimetype": "text/x-python",
   "name": "python",
   "nbconvert_exporter": "python",
   "pygments_lexer": "ipython3",
   "version": "3.8.13"
  },
  "vscode": {
   "interpreter": {
    "hash": "ba21b04416bd6bb7d943d6e1e30db1b014094e2c4596ae230c1b8e6f1c8e2c12"
   }
  }
 },
 "nbformat": 4,
 "nbformat_minor": 4
}
