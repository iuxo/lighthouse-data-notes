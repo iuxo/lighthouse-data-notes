{
 "cells": [
  {
   "cell_type": "markdown",
   "metadata": {},
   "source": [
    "### Regression exercise\n",
    "\n",
    "Today, we will fit different polynomial regression to randomly generated data and explore how our loss function behaves. We will use the formulas, introduced in the theoretical sections and create a linear regression model from scratch. \n"
   ]
  },
  {
   "cell_type": "markdown",
   "metadata": {},
   "source": [
    "#### Task 1\n",
    "\n",
    "Write a function psi(x,m) defined as $\\psi(x)=[1, x, x ^2, ..., x^m]$\n",
    "\n",
    "Example input: `psi(2, 3)`\n",
    "\n",
    "Example output: `[1, 2, 4, 8]`\n",
    "\n",
    "- HINT: use FOR loop with `for i in range(m+1):` inside the psi function"
   ]
  },
  {
   "cell_type": "code",
   "execution_count": 39,
   "metadata": {},
   "outputs": [],
   "source": [
    "def psi(x,m):\n",
    "    output = []\n",
    "    for i in range(m+1):\n",
    "        output.append(x**i)\n",
    "    return output"
   ]
  },
  {
   "cell_type": "code",
   "execution_count": 40,
   "metadata": {},
   "outputs": [
    {
     "data": {
      "text/plain": [
       "[1, 2, 4, 8]"
      ]
     },
     "execution_count": 40,
     "metadata": {},
     "output_type": "execute_result"
    }
   ],
   "source": [
    "psi(2,3)"
   ]
  },
  {
   "cell_type": "markdown",
   "metadata": {},
   "source": [
    "#### Task 2\n",
    "\n",
    "Write a function $h(x,\\alpha, m)$ defined as $h(x,\\alpha, m)=\\alpha^T\\psi(x, m)$\n",
    "\n",
    "Example input: `h(2,2,3)`\n",
    "\n",
    "Example output: `array([ 2,  4,  8, 16])`\n",
    "\n",
    "- HINT: use the `np.dot` between the $\\alpha$ and the output of psi(x, m)"
   ]
  },
  {
   "cell_type": "code",
   "execution_count": 41,
   "metadata": {},
   "outputs": [],
   "source": [
    "import numpy as np\n",
    "def h(x,a,m):\n",
    "    return np.dot(a, psi(x,m))"
   ]
  },
  {
   "cell_type": "code",
   "execution_count": 42,
   "metadata": {},
   "outputs": [
    {
     "data": {
      "text/plain": [
       "array([ 2,  4,  8, 16])"
      ]
     },
     "execution_count": 42,
     "metadata": {},
     "output_type": "execute_result"
    }
   ],
   "source": [
    "h(2,2,3)"
   ]
  },
  {
   "cell_type": "markdown",
   "metadata": {},
   "source": [
    "#### Task 3\n",
    "Create a random 3rd order polynomial and call it `p3`\n",
    "\n",
    "- HINT: check function `np.poly1d`"
   ]
  },
  {
   "cell_type": "code",
   "execution_count": 43,
   "metadata": {},
   "outputs": [],
   "source": [
    "p3 = np.poly1d([np.random.rand(), np.random.rand(), np.random.rand(), np.random.rand()])"
   ]
  },
  {
   "cell_type": "code",
   "execution_count": 58,
   "metadata": {},
   "outputs": [
    {
     "name": "stdout",
     "output_type": "stream",
     "text": [
      "        3          2\n",
      "0.1985 x + 0.6978 x + 0.1282 x + 0.4493\n"
     ]
    },
    {
     "data": {
      "text/plain": [
       "0.0"
      ]
     },
     "execution_count": 58,
     "metadata": {},
     "output_type": "execute_result"
    }
   ],
   "source": [
    "print(p3)\n",
    "p3[-2]"
   ]
  },
  {
   "cell_type": "markdown",
   "metadata": {},
   "source": [
    "#### Task 4\n",
    "Choose an interval `[a,b]`, on which the polynomial is S-shaped. \n",
    "\n",
    "At first we can choose random interval, for example `[-3,5)`, and come back to this task after **Task 7**."
   ]
  },
  {
   "cell_type": "code",
   "execution_count": 59,
   "metadata": {},
   "outputs": [
    {
     "data": {
      "image/png": "[encoded data removed]",
      "text/plain": [
       "<Figure size 640x480 with 1 Axes>"
      ]
     },
     "metadata": {},
     "output_type": "display_data"
    }
   ],
   "source": [
    "import matplotlib.pyplot as plt\n",
    "# plot the 3rd order polynomial\n",
    "x = np.linspace(-10,10, num = 100)\n",
    "\n",
    "# define the y(x) values\n",
    "fx = []\n",
    "for i in range(len(x)):\n",
    "    fx.append(p3[3] *x[i]**3 + p3[2] * x[i]**2 + p3[1]* x[i] + p3[0])\n",
    "\n",
    "# plot the figure\n",
    "plt.plot(x,fx)\n",
    "plt.grid()\n",
    "plt.axvline()\n",
    "plt.axhline()\n",
    "plt.show()  \n"
   ]
  },
  {
   "cell_type": "code",
   "execution_count": 46,
   "metadata": {},
   "outputs": [],
   "source": [
    "# come back after task 7\n",
    "interval = (-5,3)"
   ]
  },
  {
   "cell_type": "code",
   "execution_count": null,
   "metadata": {},
   "outputs": [],
   "source": []
  },
  {
   "cell_type": "markdown",
   "metadata": {},
   "source": [
    "#### Task 5\n",
    "Sample 30 random values in [a,b] and stored them in `xs`.\n",
    "\n",
    "- HINT: use `np.random.random_sample` function\n",
    "\n",
    "Output `xs` should be numpy array with length=30 and values between `a` and `b`"
   ]
  },
  {
   "cell_type": "code",
   "execution_count": 64,
   "metadata": {},
   "outputs": [],
   "source": [
    "# in form of (b-a) * random_sample + a\n",
    "# in case of interval [-3,5], b = 5, a = -3\n",
    "xs = (interval[1] - interval[0]) * np.random.random_sample(30) + interval[0]"
   ]
  },
  {
   "cell_type": "code",
   "execution_count": 65,
   "metadata": {},
   "outputs": [
    {
     "name": "stdout",
     "output_type": "stream",
     "text": [
      "[-2.00871133  0.54199862 -2.84777215 -2.53550209 -1.51070621 -0.64916892\n",
      "  2.87330147  1.43032707  3.29115424 -2.36466291  4.80379793  0.87846443\n",
      "  1.0603491   4.02427255  4.46617948 -1.14497385 -2.6853373   4.92304046\n",
      "  0.66802325  2.50376059  0.65506555  1.161172    2.18710267 -0.23158079\n",
      "  2.71551238 -1.47342642  0.68008997 -0.60337693 -2.67455576  0.77381055]\n"
     ]
    }
   ],
   "source": [
    "print(xs)"
   ]
  },
  {
   "cell_type": "markdown",
   "metadata": {},
   "source": [
    "#### Task 6\n",
    "For each x in xs, compute p3(x) and store them as `ys`.\n",
    "\n",
    "- HINT: `ys = p3(xs)`"
   ]
  },
  {
   "cell_type": "code",
   "execution_count": 66,
   "metadata": {},
   "outputs": [],
   "source": [
    "ys = p3(xs)"
   ]
  },
  {
   "cell_type": "code",
   "execution_count": 67,
   "metadata": {},
   "outputs": [
    {
     "name": "stdout",
     "output_type": "stream",
     "text": [
      "[ 1.39832476  0.75541286  1.15821123  1.37420634  1.16373718  0.60585924\n",
      " 11.28876284  2.64134059 15.50794423  1.42300706 39.17854887  1.23505653\n",
      "  1.60656983 25.20622809 32.62911022  0.91935374  1.29257174 41.68325797\n",
      "  0.90556097  8.26123023  0.888558    1.8499426   6.14491785  0.45458595\n",
      "  9.9190453   1.14032022  0.92172564  0.5824067   1.29974978  1.05836998]\n"
     ]
    }
   ],
   "source": [
    "print(ys)"
   ]
  },
  {
   "cell_type": "markdown",
   "metadata": {},
   "source": [
    "#### Task 7:\n",
    "Plot `ys` against `xs` on [a,b]. Does it look like a third order polynomial?\n",
    "\n",
    "Is the curve S-shaped? if not, repeat steps 3-7.\n",
    "\n",
    "- HINT: check out function `plt.scatter`\n",
    "- HINT: polynomial `p3 = np.poly1d([1,-3, 2,-1])` is S-shaped on the interval `[-3,5]`\n",
    "\n"
   ]
  },
  {
   "cell_type": "code",
   "execution_count": 68,
   "metadata": {},
   "outputs": [
    {
     "data": {
      "text/plain": [
       "<matplotlib.collections.PathCollection at 0x1abb9c79790>"
      ]
     },
     "execution_count": 68,
     "metadata": {},
     "output_type": "execute_result"
    },
    {
     "data": {
      "image/png": "[encoded data removed]",
      "text/plain": [
       "<Figure size 640x480 with 1 Axes>"
      ]
     },
     "metadata": {},
     "output_type": "display_data"
    }
   ],
   "source": [
    "plt.scatter(xs,ys)"
   ]
  },
  {
   "cell_type": "code",
   "execution_count": null,
   "metadata": {},
   "outputs": [],
   "source": []
  },
  {
   "cell_type": "markdown",
   "metadata": {},
   "source": [
    "## Fitting the data"
   ]
  },
  {
   "cell_type": "markdown",
   "metadata": {},
   "source": [
    "We will try to fit the data by a polynomial of order m=2. \n",
    "\n",
    "#### Task 8:\n",
    "\n",
    "Using xs and psi(x,m) from the **Task I**, create the matrix X defined as \n",
    "\n",
    "<img src=\"matrixX.png\">\n",
    "\n",
    "- HINT: Use a for loop and call psi(x,2) on every item in `xs`. Output should be stored as columns in matrix X.\n",
    "- HINT: For `m = 2` and `len(xs) = 30`, the `X.shape = (3,30)`"
   ]
  },
  {
   "cell_type": "code",
   "execution_count": 76,
   "metadata": {},
   "outputs": [],
   "source": [
    "matrix_list = []\n",
    "for i in range(len(xs)):\n",
    "    matrix_list.append(psi(xs[i], 2))\n",
    "\n",
    "X = np.array(matrix_list).T"
   ]
  },
  {
   "cell_type": "code",
   "execution_count": 78,
   "metadata": {},
   "outputs": [
    {
     "data": {
      "text/plain": [
       "(3, 30)"
      ]
     },
     "execution_count": 78,
     "metadata": {},
     "output_type": "execute_result"
    }
   ],
   "source": [
    "X\n",
    "X.shape"
   ]
  },
  {
   "cell_type": "markdown",
   "metadata": {},
   "source": [
    "#### Task 9\n",
    "Compute the optimal $\\alpha$ using the expression $\\alpha = (XX^T)^+Xy$ where $(XX^T)^+$ is the pseudoinverse matrix. y is our `ys` from the Task 6 and X is matrix from the Task 8.\n",
    "\n",
    "- HINT: Numpy functions `np.dot`, `np.linalg.inv` and `transpose()` should be used"
   ]
  },
  {
   "cell_type": "code",
   "execution_count": 80,
   "metadata": {},
   "outputs": [],
   "source": [
    "# break into steps\n",
    "# calculate the pseudo inverse matrix\n",
    "prod = np.dot(X, X.T) \n",
    "pseudo = np.linalg.inv(prod)"
   ]
  },
  {
   "cell_type": "code",
   "execution_count": 81,
   "metadata": {},
   "outputs": [],
   "source": [
    "alpha = np.dot(pseudo, np.dot(X, ys))"
   ]
  },
  {
   "cell_type": "markdown",
   "metadata": {},
   "source": [
    "#### Task 10\n",
    "Plot the original data and the computed polynomial which represents our prediction into one chart. Does it fit? We need to compute prediction using alpha from the **Task 9** for the each item in xs.\n",
    "\n",
    "HINT: for first item in xs, prediction is `y_est = h(list(xs)[1],alpha, m)` where alpha is output of the **Task 9** and **m=2**. This needs to be repeated for every element of xs"
   ]
  },
  {
   "cell_type": "code",
   "execution_count": 86,
   "metadata": {},
   "outputs": [],
   "source": [
    "# write a for loop for each element of xs\n",
    "estimates = []\n",
    "\n",
    "for i in range(len(xs)):\n",
    "    estimates.append(h(list(xs)[i], alpha, 2))"
   ]
  },
  {
   "cell_type": "code",
   "execution_count": 87,
   "metadata": {},
   "outputs": [],
   "source": [
    "y_est = np.array(estimates)"
   ]
  },
  {
   "cell_type": "code",
   "execution_count": 88,
   "metadata": {},
   "outputs": [
    {
     "data": {
      "text/plain": [
       "<matplotlib.collections.PathCollection at 0x1abb89fbdf0>"
      ]
     },
     "execution_count": 88,
     "metadata": {},
     "output_type": "execute_result"
    },
    {
     "data": {
      "image/png": "[encoded data removed]",
      "text/plain": [
       "<Figure size 640x480 with 1 Axes>"
      ]
     },
     "metadata": {},
     "output_type": "display_data"
    }
   ],
   "source": [
    "plt.scatter(xs, ys)\n",
    "plt.scatter(xs, y_est)"
   ]
  },
  {
   "cell_type": "code",
   "execution_count": null,
   "metadata": {},
   "outputs": [],
   "source": [
    "# does not fit perfectly."
   ]
  },
  {
   "cell_type": "markdown",
   "metadata": {},
   "source": [
    "#### Task 11\n",
    "Repeat the process, **tasks 8-10**, for m=3,…,10. What do you observe? Which polynomial has the best fit?"
   ]
  },
  {
   "cell_type": "code",
   "execution_count": 89,
   "metadata": {},
   "outputs": [],
   "source": [
    "matrix_list = []\n",
    "for i in range(len(xs)):\n",
    "    matrix_list.append(psi(xs[i], 3))\n",
    "\n",
    "X = np.array(matrix_list).T"
   ]
  },
  {
   "cell_type": "code",
   "execution_count": 90,
   "metadata": {},
   "outputs": [],
   "source": [
    "prod = np.dot(X, X.T) \n",
    "pseudo = np.linalg.inv(prod)"
   ]
  },
  {
   "cell_type": "code",
   "execution_count": 91,
   "metadata": {},
   "outputs": [],
   "source": [
    "alpha = np.dot(pseudo, np.dot(X, ys))"
   ]
  },
  {
   "cell_type": "code",
   "execution_count": 93,
   "metadata": {},
   "outputs": [],
   "source": [
    "estimates = []\n",
    "\n",
    "for i in range(len(xs)):\n",
    "    estimates.append(h(list(xs)[i], alpha, 3))"
   ]
  },
  {
   "cell_type": "code",
   "execution_count": 94,
   "metadata": {},
   "outputs": [],
   "source": [
    "y_est = np.array(estimates)"
   ]
  },
  {
   "cell_type": "code",
   "execution_count": 95,
   "metadata": {},
   "outputs": [
    {
     "data": {
      "text/plain": [
       "<matplotlib.collections.PathCollection at 0x1abb88fc8e0>"
      ]
     },
     "execution_count": 95,
     "metadata": {},
     "output_type": "execute_result"
    },
    {
     "data": {
      "image/png": "[encoded data removed]",
      "text/plain": [
       "<Figure size 640x480 with 1 Axes>"
      ]
     },
     "metadata": {},
     "output_type": "display_data"
    }
   ],
   "source": [
    "plt.scatter(xs, ys)\n",
    "plt.scatter(xs, y_est)"
   ]
  },
  {
   "cell_type": "code",
   "execution_count": null,
   "metadata": {},
   "outputs": [],
   "source": [
    "# m = 3 fits perfectly"
   ]
  },
  {
   "cell_type": "markdown",
   "metadata": {},
   "source": [
    "#### Task 12\n",
    "Plot the value of the loss (defined as $ l(\\alpha^Tx, y) = \\sum(\\alpha^Tx - y)^2 $  ) for m=2,…,10. \n",
    "\n",
    "y is our `ys` from the Task 6 and $\\alpha^Tx$ are our predictions `y_est`. \n",
    "\n",
    "What do you observe? Could you tell the optimal m from the plot?\n",
    "\n",
    "- HINT: loss can be computed as:\n",
    "\n",
    "```\n",
    "def compute_loss(y_est, ys):\n",
    "    return ((y_est - ys)**2).sum()\n",
    "```"
   ]
  },
  {
   "cell_type": "code",
   "execution_count": 96,
   "metadata": {},
   "outputs": [],
   "source": [
    "def compute_loss(y_est, ys):\n",
    "    return((y_est - ys)**2).sum()"
   ]
  },
  {
   "cell_type": "code",
   "execution_count": null,
   "metadata": {},
   "outputs": [],
   "source": []
  },
  {
   "cell_type": "code",
   "execution_count": null,
   "metadata": {},
   "outputs": [],
   "source": []
  }
 ],
 "metadata": {
  "kernelspec": {
   "display_name": "Python 3.8.13 ('THE_ONE')",
   "language": "python",
   "name": "python3"
  },
  "language_info": {
   "codemirror_mode": {
    "name": "ipython",
    "version": 3
   },
   "file_extension": ".py",
   "mimetype": "text/x-python",
   "name": "python",
   "nbconvert_exporter": "python",
   "pygments_lexer": "ipython3",
   "version": "3.8.13"
  },
  "vscode": {
   "interpreter": {
    "hash": "ba21b04416bd6bb7d943d6e1e30db1b014094e2c4596ae230c1b8e6f1c8e2c12"
   }
  }
 },
 "nbformat": 4,
 "nbformat_minor": 4
}
