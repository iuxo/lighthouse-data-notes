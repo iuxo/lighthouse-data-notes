{
 "cells": [
  {
   "cell_type": "code",
   "execution_count": 1,
   "metadata": {
    "ExecuteTime": {
     "end_time": "2020-04-30T11:38:37.047559Z",
     "start_time": "2020-04-30T11:38:35.905481Z"
    }
   },
   "outputs": [],
   "source": [
    "# import pandas\n",
    "import pandas as pd\n",
    "\n",
    "# import TfidfVectorizer\n",
    "from sklearn.feature_extraction.text import TfidfVectorizer\n",
    "\n",
    "# import cosine_similarity\n",
    "from sklearn.metrics.pairwise import cosine_similarity"
   ]
  },
  {
   "cell_type": "code",
   "execution_count": 2,
   "metadata": {
    "ExecuteTime": {
     "end_time": "2020-04-30T11:38:37.699655Z",
     "start_time": "2020-04-30T11:38:37.111767Z"
    }
   },
   "outputs": [],
   "source": [
    "# import data\n",
    "df = pd.read_csv(\"https://raw.githubusercontent.com/nikitaa30/Content-based-Recommender-System/master/sample-data.csv\")"
   ]
  },
  {
   "cell_type": "code",
   "execution_count": 3,
   "metadata": {},
   "outputs": [
    {
     "data": {
      "text/html": [
       "<div>\n",
       "<style scoped>\n",
       "    .dataframe tbody tr th:only-of-type {\n",
       "        vertical-align: middle;\n",
       "    }\n",
       "\n",
       "    .dataframe tbody tr th {\n",
       "        vertical-align: top;\n",
       "    }\n",
       "\n",
       "    .dataframe thead th {\n",
       "        text-align: right;\n",
       "    }\n",
       "</style>\n",
       "<table border=\"1\" class=\"dataframe\">\n",
       "  <thead>\n",
       "    <tr style=\"text-align: right;\">\n",
       "      <th></th>\n",
       "      <th>id</th>\n",
       "      <th>description</th>\n",
       "    </tr>\n",
       "  </thead>\n",
       "  <tbody>\n",
       "    <tr>\n",
       "      <th>0</th>\n",
       "      <td>1</td>\n",
       "      <td>Active classic boxers - There's a reason why o...</td>\n",
       "    </tr>\n",
       "    <tr>\n",
       "      <th>1</th>\n",
       "      <td>2</td>\n",
       "      <td>Active sport boxer briefs - Skinning up Glory ...</td>\n",
       "    </tr>\n",
       "    <tr>\n",
       "      <th>2</th>\n",
       "      <td>3</td>\n",
       "      <td>Active sport briefs - These superbreathable no...</td>\n",
       "    </tr>\n",
       "    <tr>\n",
       "      <th>3</th>\n",
       "      <td>4</td>\n",
       "      <td>Alpine guide pants - Skin in, climb ice, switc...</td>\n",
       "    </tr>\n",
       "    <tr>\n",
       "      <th>4</th>\n",
       "      <td>5</td>\n",
       "      <td>Alpine wind jkt - On high ridges, steep ice an...</td>\n",
       "    </tr>\n",
       "    <tr>\n",
       "      <th>...</th>\n",
       "      <td>...</td>\n",
       "      <td>...</td>\n",
       "    </tr>\n",
       "    <tr>\n",
       "      <th>495</th>\n",
       "      <td>496</td>\n",
       "      <td>Cap 2 bottoms - Cut loose from the maddening c...</td>\n",
       "    </tr>\n",
       "    <tr>\n",
       "      <th>496</th>\n",
       "      <td>497</td>\n",
       "      <td>Cap 2 crew - This crew takes the edge off fick...</td>\n",
       "    </tr>\n",
       "    <tr>\n",
       "      <th>497</th>\n",
       "      <td>498</td>\n",
       "      <td>All-time shell - No need to use that morning T...</td>\n",
       "    </tr>\n",
       "    <tr>\n",
       "      <th>498</th>\n",
       "      <td>499</td>\n",
       "      <td>All-wear cargo shorts - All-Wear Cargo Shorts ...</td>\n",
       "    </tr>\n",
       "    <tr>\n",
       "      <th>499</th>\n",
       "      <td>500</td>\n",
       "      <td>All-wear shorts - Time to simplify? Our All-We...</td>\n",
       "    </tr>\n",
       "  </tbody>\n",
       "</table>\n",
       "<p>500 rows × 2 columns</p>\n",
       "</div>"
      ],
      "text/plain": [
       "      id                                        description\n",
       "0      1  Active classic boxers - There's a reason why o...\n",
       "1      2  Active sport boxer briefs - Skinning up Glory ...\n",
       "2      3  Active sport briefs - These superbreathable no...\n",
       "3      4  Alpine guide pants - Skin in, climb ice, switc...\n",
       "4      5  Alpine wind jkt - On high ridges, steep ice an...\n",
       "..   ...                                                ...\n",
       "495  496  Cap 2 bottoms - Cut loose from the maddening c...\n",
       "496  497  Cap 2 crew - This crew takes the edge off fick...\n",
       "497  498  All-time shell - No need to use that morning T...\n",
       "498  499  All-wear cargo shorts - All-Wear Cargo Shorts ...\n",
       "499  500  All-wear shorts - Time to simplify? Our All-We...\n",
       "\n",
       "[500 rows x 2 columns]"
      ]
     },
     "execution_count": 3,
     "metadata": {},
     "output_type": "execute_result"
    }
   ],
   "source": [
    "df"
   ]
  },
  {
   "cell_type": "markdown",
   "metadata": {},
   "source": [
    "* explore DataFrame"
   ]
  },
  {
   "cell_type": "markdown",
   "metadata": {},
   "source": [
    "We will be using Tf-Idf to find similar items based on description\n",
    "* instantiate TF-IDF"
   ]
  },
  {
   "cell_type": "code",
   "execution_count": 10,
   "metadata": {
    "ExecuteTime": {
     "end_time": "2020-04-30T11:34:35.873143Z",
     "start_time": "2020-04-30T11:34:35.867457Z"
    }
   },
   "outputs": [],
   "source": [
    "tfidf = TfidfVectorizer(stop_words='english')"
   ]
  },
  {
   "cell_type": "markdown",
   "metadata": {},
   "source": [
    "* fit and transform 'description' column with TFIDF"
   ]
  },
  {
   "cell_type": "code",
   "execution_count": 11,
   "metadata": {},
   "outputs": [],
   "source": [
    "transformed = tfidf.fit_transform(df['description'])"
   ]
  },
  {
   "cell_type": "code",
   "execution_count": 13,
   "metadata": {
    "ExecuteTime": {
     "end_time": "2020-04-30T11:34:36.771694Z",
     "start_time": "2020-04-30T11:34:36.413145Z"
    }
   },
   "outputs": [
    {
     "data": {
      "text/plain": [
       "(500, 4600)"
      ]
     },
     "execution_count": 13,
     "metadata": {},
     "output_type": "execute_result"
    }
   ],
   "source": [
    "transformed.shape"
   ]
  },
  {
   "cell_type": "markdown",
   "metadata": {},
   "source": [
    "* calculate the cosine similarity of each item with every other item in the dataset, "
   ]
  },
  {
   "cell_type": "code",
   "execution_count": 14,
   "metadata": {},
   "outputs": [],
   "source": [
    "sim =  cosine_similarity(transformed, transformed)"
   ]
  },
  {
   "cell_type": "code",
   "execution_count": 15,
   "metadata": {},
   "outputs": [
    {
     "data": {
      "text/plain": [
       "array([[1.        , 0.31005145, 0.18891957, ..., 0.14812382, 0.18521397,\n",
       "        0.20070706],\n",
       "       [0.31005145, 1.        , 0.57514356, ..., 0.11131481, 0.2053139 ,\n",
       "        0.18008906],\n",
       "       [0.18891957, 0.57514356, 1.        , ..., 0.10043647, 0.12778935,\n",
       "        0.14410777],\n",
       "       ...,\n",
       "       [0.14812382, 0.11131481, 0.10043647, ..., 1.        , 0.11674521,\n",
       "        0.14302157],\n",
       "       [0.18521397, 0.2053139 , 0.12778935, ..., 0.11674521, 1.        ,\n",
       "        0.57835324],\n",
       "       [0.20070706, 0.18008906, 0.14410777, ..., 0.14302157, 0.57835324,\n",
       "        1.        ]])"
      ]
     },
     "execution_count": 15,
     "metadata": {},
     "output_type": "execute_result"
    }
   ],
   "source": [
    "sim"
   ]
  },
  {
   "cell_type": "code",
   "execution_count": 32,
   "metadata": {},
   "outputs": [
    {
     "data": {
      "text/plain": [
       "(500, 500)"
      ]
     },
     "execution_count": 32,
     "metadata": {},
     "output_type": "execute_result"
    }
   ],
   "source": [
    "sim.shape"
   ]
  },
  {
   "cell_type": "markdown",
   "metadata": {
    "ExecuteTime": {
     "end_time": "2020-04-30T11:35:42.314473Z",
     "start_time": "2020-04-30T11:35:41.640441Z"
    }
   },
   "source": [
    "* sort all items using their similarity for each item i, and store the values in dictionary `results`\n",
    "\n",
    "```\n",
    "results = {\n",
    "    \"1\": [5,7,9...],\n",
    "    \"2\": [45,2,3...]\n",
    "}\n",
    "```"
   ]
  },
  {
   "cell_type": "code",
   "execution_count": 24,
   "metadata": {},
   "outputs": [],
   "source": [
    "results = {}\n",
    "\n",
    "for id in (df['id'] - 1):\n",
    "    sim_scores = list(enumerate(sim[id]))\n",
    "\n",
    "    # Sort the movies based on the similarity scores\n",
    "    sim_scores = sorted(sim_scores, key=lambda x: x[1], reverse=True)\n",
    "    sim_scores = sim_scores[1:]\n",
    "    results[id] = [i[0] for i in sim_scores]"
   ]
  },
  {
   "cell_type": "code",
   "execution_count": 27,
   "metadata": {},
   "outputs": [
    {
     "data": {
      "text/plain": [
       "500"
      ]
     },
     "execution_count": 27,
     "metadata": {},
     "output_type": "execute_result"
    }
   ],
   "source": [
    "len(results)"
   ]
  },
  {
   "cell_type": "markdown",
   "metadata": {},
   "source": [
    "* create function `recommender` that will recommend similar products\n",
    "    * function must have two input params: **item_id** and **count** of similar products "
   ]
  },
  {
   "cell_type": "code",
   "execution_count": 42,
   "metadata": {},
   "outputs": [],
   "source": [
    "def recommender(item_id, count):\n",
    "    return results.get(item_id)[:count]"
   ]
  },
  {
   "cell_type": "code",
   "execution_count": null,
   "metadata": {
    "ExecuteTime": {
     "end_time": "2020-04-30T11:36:31.626923Z",
     "start_time": "2020-04-30T11:36:31.620020Z"
    }
   },
   "outputs": [],
   "source": []
  },
  {
   "cell_type": "markdown",
   "metadata": {},
   "source": [
    "* show top 5 the most similar items for item with idem_id = 11"
   ]
  },
  {
   "cell_type": "code",
   "execution_count": 43,
   "metadata": {},
   "outputs": [
    {
     "data": {
      "text/plain": [
       "[401, 407, 427, 311, 465]"
      ]
     },
     "execution_count": 43,
     "metadata": {},
     "output_type": "execute_result"
    }
   ],
   "source": [
    "recommender(11, 5)"
   ]
  },
  {
   "cell_type": "code",
   "execution_count": 37,
   "metadata": {
    "ExecuteTime": {
     "end_time": "2020-04-30T11:36:55.945848Z",
     "start_time": "2020-04-30T11:36:55.933039Z"
    }
   },
   "outputs": [
    {
     "data": {
      "text/plain": [
       "array([[5,\n",
       "        'Alpine wind jkt - On high ridges, steep ice and anything alpine, this jacket serves as a true \"best of all worlds\" staple. It excels as a stand-alone shell for blustery rock climbs, cool-weather trail runs and high-output ski tours. And then, when conditions have you ice and alpine climbing, it functions as a lightly insulated windshirt on the approach, as well as a frictionless midlayer when it\\'s time to bundle up and tie-in. The polyester ripstop shell with a Deluge DWR (durable water repellent) treatment sheds snow and blocks wind, while the smooth, lightly brushed hanging mesh liner wicks moisture, dries fast, and doesn\\'t bind to your baselayers. Superlight stretch-woven underarm panels enhance breathability and allow for unimpaired arm motion, and the two hand pockets close with zippers. A drawcord hem, elastic cuffs, a heat-transfer reflective logo and a regular-coil, center-front zipper with DWR finish round out the features. Updated this season for an improved fit. Recyclable through the Common Threads Recycling Program.<br><br><b>Details:</b><ul> <li>\"Lightweight, breathable polyester ripstop fabric with Deluge DWR (durable water repellent) finish; Slightly brushed polyester-mesh liner wicks moisture and dries fast\"</li> <li>\"Stretch-woven underarm panels provide breathability, stretch for unimpeded range of motion\"</li> <li>DWR finish on center-front zipper</li> <li>Elastic cuffs</li> <li>\"Pockets: exterior chest, zippered handwarmers\"</li> <li>Drawcord hem</li> <li>Reflective heat-transfer logo</li></ul><br><br><b>Fabric: </b>Shell: 1.3-oz 20-denier 100% polyester ripstop. Panels: 4.6-oz 75-denier 90% all-recycled polyester/10% spandex. Shell and panels have Deluge DWR (durable water repellent) finish. Lining: 100% polyester brushed tricot mesh. Recyclable through the Common Threads Recycling Program<br><br><b>Weight: </b>(331 g 11.5 oz)<br><br>Made in China.']],\n",
       "      dtype=object)"
      ]
     },
     "execution_count": 37,
     "metadata": {},
     "output_type": "execute_result"
    }
   ],
   "source": [
    "df[df['id'] == 5].values"
   ]
  },
  {
   "cell_type": "code",
   "execution_count": 38,
   "metadata": {},
   "outputs": [
    {
     "data": {
      "text/plain": [
       "array([[401,\n",
       "        \"Reversible phone home - Travel broadly and surf the world, but don't forget to call your mom. Now reversible for road-trip rejuvenation, the inimitable hooded Phone Home Jacket helps us keep in touch. Made of 100% organic cotton fleece lined with a soft organic cotton jersey. Comes with an extended rib-knit at the waist and cuffs and roomy pockets on the fleecy side. Recyclable through the Common Threads Recycling Program.<br><br><b>Details:</b><ul> <li>Organic cotton fleece hoody lined with organic cotton jersey</li> <li>Rib-knit waist and cuffs</li> <li>Drawstring closure at hood</li> <li>Roomy front pockets</li> <li>Reversible</li></ul><br><br><b>Fabric: </b>10.3-oz 100% organic cotton fleece. Lining: 4.5-oz 100% organic cotton jersey. Recyclable through the Common Threads Recycling Program<br><br><b>Weight: </b>(917 g 31.8 oz)<br><br>Made in India.\"]],\n",
       "      dtype=object)"
      ]
     },
     "execution_count": 38,
     "metadata": {},
     "output_type": "execute_result"
    }
   ],
   "source": [
    "df[df['id'] == 401].values"
   ]
  },
  {
   "cell_type": "code",
   "execution_count": 39,
   "metadata": {},
   "outputs": [
    {
     "data": {
      "text/plain": [
       "array([[407,\n",
       "        'Merino 2 crew - In this soft long-sleeved tee, you can work up a sweat biking to work, catch a bouldering session in the afternoon, and still have people want to be near you at the pub. Inherently soft and comfortable, merino naturally resists odor, moves moisture away from the skin, regulates body temperature, and stretches. Made from our most versatile merino layer for an active lifestyle in warm to cool weather, this lightweight pullover features 73% merino wool spun around an all-recycled polyester (27%) core for a luxurious hand, an improved dry time and enduring strength. The raglan-sleeve design and offset side seams are smooth beneath pack straps. We slow-wash our merino for next-to-skin softness. Machine-wash cold; lay flat to dry. Recyclable through the Common Threads Recycling Program.<br><br><b>Details:</b><ul> <li>\"Slow-washed merino wool resists odor naturally, insulates even when wet, is durable and stretches, provides superior performance and softness\"</li> <li>18.5 micron-gauge yarn and jersey-knit construction for luxurious hand</li> <li>\"All-recycled polyester core wicks moisture, while wool next to skin controls odor\"</li> <li>Self-fabric collar band for comfort without binding</li> <li>Raglan sleeve seams won\\'t chafe beneath pack straps</li> <li>Side seams offset to eliminate irritation</li> <li>\"Machine-wash cold, lay flat to dry\"</li></ul><br><br><b>Fabric: </b>4.85-oz (165-g) 73% chlorine-free merino wool/27% all-recycled polyester. Recyclable through the Common Threads Recycling Program<br><br><b>Weight: </b>(167 g 5.8 oz)<br><br>Made in USA.']],\n",
       "      dtype=object)"
      ]
     },
     "execution_count": 39,
     "metadata": {},
     "output_type": "execute_result"
    }
   ],
   "source": [
    "df[df['id'] == 407].values"
   ]
  },
  {
   "cell_type": "code",
   "execution_count": 46,
   "metadata": {},
   "outputs": [
    {
     "data": {
      "text/plain": [
       "[401,\n",
       " 407,\n",
       " 427,\n",
       " 311,\n",
       " 465,\n",
       " 324,\n",
       " 99,\n",
       " 91,\n",
       " 394,\n",
       " 328,\n",
       " 145,\n",
       " 301,\n",
       " 45,\n",
       " 187,\n",
       " 304,\n",
       " 305,\n",
       " 51,\n",
       " 42,\n",
       " 444,\n",
       " 58,\n",
       " 283,\n",
       " 408,\n",
       " 449,\n",
       " 14,\n",
       " 484,\n",
       " 28,\n",
       " 329,\n",
       " 392,\n",
       " 402,\n",
       " 208,\n",
       " 327,\n",
       " 499,\n",
       " 426,\n",
       " 399,\n",
       " 479,\n",
       " 96,\n",
       " 44,\n",
       " 213,\n",
       " 15,\n",
       " 223,\n",
       " 146,\n",
       " 186,\n",
       " 206,\n",
       " 307,\n",
       " 453,\n",
       " 4,\n",
       " 216,\n",
       " 43,\n",
       " 357,\n",
       " 319,\n",
       " 464,\n",
       " 483,\n",
       " 385,\n",
       " 435,\n",
       " 6,\n",
       " 353,\n",
       " 266,\n",
       " 222,\n",
       " 274,\n",
       " 255,\n",
       " 258,\n",
       " 52,\n",
       " 54,\n",
       " 471,\n",
       " 443,\n",
       " 352,\n",
       " 367,\n",
       " 5,\n",
       " 167,\n",
       " 388,\n",
       " 437,\n",
       " 119,\n",
       " 111,\n",
       " 183,\n",
       " 286,\n",
       " 105,\n",
       " 341,\n",
       " 203,\n",
       " 215,\n",
       " 114,\n",
       " 415,\n",
       " 423,\n",
       " 302,\n",
       " 2,\n",
       " 0,\n",
       " 103,\n",
       " 231,\n",
       " 34,\n",
       " 398,\n",
       " 140,\n",
       " 69,\n",
       " 436,\n",
       " 472,\n",
       " 12,\n",
       " 325,\n",
       " 279,\n",
       " 450,\n",
       " 493,\n",
       " 452,\n",
       " 185,\n",
       " 228,\n",
       " 142,\n",
       " 92,\n",
       " 342,\n",
       " 178,\n",
       " 134,\n",
       " 33,\n",
       " 83,\n",
       " 60,\n",
       " 497,\n",
       " 418,\n",
       " 207,\n",
       " 32,\n",
       " 381,\n",
       " 498,\n",
       " 156,\n",
       " 30,\n",
       " 66,\n",
       " 130,\n",
       " 211,\n",
       " 414,\n",
       " 281,\n",
       " 3,\n",
       " 463,\n",
       " 10,\n",
       " 411,\n",
       " 212,\n",
       " 378,\n",
       " 106,\n",
       " 350,\n",
       " 293,\n",
       " 16,\n",
       " 482,\n",
       " 1,\n",
       " 158,\n",
       " 413,\n",
       " 179,\n",
       " 386,\n",
       " 118,\n",
       " 117,\n",
       " 349,\n",
       " 267,\n",
       " 144,\n",
       " 361,\n",
       " 155,\n",
       " 49,\n",
       " 18,\n",
       " 29,\n",
       " 330,\n",
       " 95,\n",
       " 320,\n",
       " 468,\n",
       " 457,\n",
       " 272,\n",
       " 292,\n",
       " 477,\n",
       " 205,\n",
       " 226,\n",
       " 323,\n",
       " 481,\n",
       " 438,\n",
       " 280,\n",
       " 480,\n",
       " 36,\n",
       " 50,\n",
       " 369,\n",
       " 368,\n",
       " 75,\n",
       " 74,\n",
       " 383,\n",
       " 393,\n",
       " 209,\n",
       " 416,\n",
       " 245,\n",
       " 363,\n",
       " 404,\n",
       " 377,\n",
       " 261,\n",
       " 454,\n",
       " 262,\n",
       " 124,\n",
       " 254,\n",
       " 467,\n",
       " 8,\n",
       " 391,\n",
       " 430,\n",
       " 109,\n",
       " 387,\n",
       " 159,\n",
       " 351,\n",
       " 486,\n",
       " 390,\n",
       " 143,\n",
       " 451,\n",
       " 235,\n",
       " 27,\n",
       " 46,\n",
       " 26,\n",
       " 360,\n",
       " 76,\n",
       " 364,\n",
       " 428,\n",
       " 192,\n",
       " 462,\n",
       " 461,\n",
       " 31,\n",
       " 57,\n",
       " 152,\n",
       " 153,\n",
       " 366,\n",
       " 354,\n",
       " 256,\n",
       " 204,\n",
       " 284,\n",
       " 373,\n",
       " 425,\n",
       " 384,\n",
       " 348,\n",
       " 61,\n",
       " 62,\n",
       " 72,\n",
       " 63,\n",
       " 420,\n",
       " 400,\n",
       " 218,\n",
       " 298,\n",
       " 494,\n",
       " 128,\n",
       " 290,\n",
       " 64,\n",
       " 98,\n",
       " 432,\n",
       " 308,\n",
       " 53,\n",
       " 239,\n",
       " 431,\n",
       " 171,\n",
       " 104,\n",
       " 129,\n",
       " 326,\n",
       " 9,\n",
       " 334,\n",
       " 84,\n",
       " 196,\n",
       " 273,\n",
       " 478,\n",
       " 148,\n",
       " 160,\n",
       " 495,\n",
       " 20,\n",
       " 246,\n",
       " 359,\n",
       " 214,\n",
       " 485,\n",
       " 358,\n",
       " 346,\n",
       " 445,\n",
       " 247,\n",
       " 269,\n",
       " 496,\n",
       " 271,\n",
       " 41,\n",
       " 127,\n",
       " 65,\n",
       " 97,\n",
       " 487,\n",
       " 230,\n",
       " 282,\n",
       " 17,\n",
       " 85,\n",
       " 455,\n",
       " 19,\n",
       " 347,\n",
       " 120,\n",
       " 253,\n",
       " 374,\n",
       " 340,\n",
       " 389,\n",
       " 107,\n",
       " 242,\n",
       " 188,\n",
       " 170,\n",
       " 108,\n",
       " 251,\n",
       " 93,\n",
       " 460,\n",
       " 339,\n",
       " 24,\n",
       " 116,\n",
       " 474,\n",
       " 260,\n",
       " 21,\n",
       " 490,\n",
       " 459,\n",
       " 173,\n",
       " 356,\n",
       " 275,\n",
       " 172,\n",
       " 375,\n",
       " 137,\n",
       " 39,\n",
       " 138,\n",
       " 163,\n",
       " 403,\n",
       " 70,\n",
       " 82,\n",
       " 355,\n",
       " 123,\n",
       " 132,\n",
       " 429,\n",
       " 229,\n",
       " 115,\n",
       " 441,\n",
       " 241,\n",
       " 233,\n",
       " 336,\n",
       " 221,\n",
       " 297,\n",
       " 238,\n",
       " 166,\n",
       " 397,\n",
       " 244,\n",
       " 396,\n",
       " 175,\n",
       " 288,\n",
       " 362,\n",
       " 321,\n",
       " 55,\n",
       " 220,\n",
       " 141,\n",
       " 101,\n",
       " 227,\n",
       " 303,\n",
       " 189,\n",
       " 294,\n",
       " 157,\n",
       " 488,\n",
       " 476,\n",
       " 439,\n",
       " 379,\n",
       " 314,\n",
       " 37,\n",
       " 169,\n",
       " 310,\n",
       " 125,\n",
       " 94,\n",
       " 81,\n",
       " 287,\n",
       " 372,\n",
       " 240,\n",
       " 184,\n",
       " 22,\n",
       " 291,\n",
       " 224,\n",
       " 469,\n",
       " 210,\n",
       " 56,\n",
       " 333,\n",
       " 174,\n",
       " 263,\n",
       " 77,\n",
       " 405,\n",
       " 71,\n",
       " 7,\n",
       " 322,\n",
       " 412,\n",
       " 180,\n",
       " 219,\n",
       " 131,\n",
       " 135,\n",
       " 168,\n",
       " 217,\n",
       " 492,\n",
       " 13,\n",
       " 195,\n",
       " 181,\n",
       " 257,\n",
       " 100,\n",
       " 440,\n",
       " 90,\n",
       " 470,\n",
       " 191,\n",
       " 259,\n",
       " 309,\n",
       " 193,\n",
       " 466,\n",
       " 365,\n",
       " 264,\n",
       " 25,\n",
       " 165,\n",
       " 424,\n",
       " 300,\n",
       " 194,\n",
       " 133,\n",
       " 162,\n",
       " 332,\n",
       " 278,\n",
       " 422,\n",
       " 236,\n",
       " 89,\n",
       " 250,\n",
       " 126,\n",
       " 417,\n",
       " 371,\n",
       " 410,\n",
       " 249,\n",
       " 177,\n",
       " 199,\n",
       " 200,\n",
       " 475,\n",
       " 198,\n",
       " 40,\n",
       " 380,\n",
       " 234,\n",
       " 265,\n",
       " 448,\n",
       " 149,\n",
       " 161,\n",
       " 335,\n",
       " 225,\n",
       " 59,\n",
       " 458,\n",
       " 88,\n",
       " 201,\n",
       " 277,\n",
       " 67,\n",
       " 73,\n",
       " 35,\n",
       " 139,\n",
       " 421,\n",
       " 243,\n",
       " 150,\n",
       " 252,\n",
       " 317,\n",
       " 110,\n",
       " 248,\n",
       " 442,\n",
       " 473,\n",
       " 276,\n",
       " 112,\n",
       " 87,\n",
       " 190,\n",
       " 48,\n",
       " 406,\n",
       " 343,\n",
       " 419,\n",
       " 268,\n",
       " 285,\n",
       " 491,\n",
       " 316,\n",
       " 313,\n",
       " 296,\n",
       " 232,\n",
       " 376,\n",
       " 176,\n",
       " 86,\n",
       " 202,\n",
       " 197,\n",
       " 23,\n",
       " 136,\n",
       " 434,\n",
       " 295,\n",
       " 447,\n",
       " 113,\n",
       " 38,\n",
       " 289,\n",
       " 382,\n",
       " 151,\n",
       " 446,\n",
       " 154,\n",
       " 121,\n",
       " 338,\n",
       " 312,\n",
       " 345,\n",
       " 409,\n",
       " 102,\n",
       " 315,\n",
       " 344,\n",
       " 80,\n",
       " 270,\n",
       " 299,\n",
       " 433,\n",
       " 306,\n",
       " 182,\n",
       " 164,\n",
       " 79,\n",
       " 147,\n",
       " 78,\n",
       " 122,\n",
       " 337,\n",
       " 456,\n",
       " 237,\n",
       " 395,\n",
       " 68,\n",
       " 47,\n",
       " 318,\n",
       " 489,\n",
       " 331,\n",
       " 370]"
      ]
     },
     "execution_count": 46,
     "metadata": {},
     "output_type": "execute_result"
    }
   ],
   "source": [
    "results[11]"
   ]
  },
  {
   "cell_type": "code",
   "execution_count": null,
   "metadata": {},
   "outputs": [],
   "source": []
  }
 ],
 "metadata": {
  "kernelspec": {
   "display_name": "Python 3.8.13 ('THE_ONE')",
   "language": "python",
   "name": "python3"
  },
  "language_info": {
   "codemirror_mode": {
    "name": "ipython",
    "version": 3
   },
   "file_extension": ".py",
   "mimetype": "text/x-python",
   "name": "python",
   "nbconvert_exporter": "python",
   "pygments_lexer": "ipython3",
   "version": "3.8.13"
  },
  "toc": {
   "base_numbering": 1,
   "nav_menu": {},
   "number_sections": true,
   "sideBar": true,
   "skip_h1_title": false,
   "title_cell": "Table of Contents",
   "title_sidebar": "Contents",
   "toc_cell": false,
   "toc_position": {},
   "toc_section_display": true,
   "toc_window_display": false
  },
  "varInspector": {
   "cols": {
    "lenName": 16,
    "lenType": 16,
    "lenVar": 40
   },
   "kernels_config": {
    "python": {
     "delete_cmd_postfix": "",
     "delete_cmd_prefix": "del ",
     "library": "var_list.py",
     "varRefreshCmd": "print(var_dic_list())"
    },
    "r": {
     "delete_cmd_postfix": ") ",
     "delete_cmd_prefix": "rm(",
     "library": "var_list.r",
     "varRefreshCmd": "cat(var_dic_list()) "
    }
   },
   "types_to_exclude": [
    "module",
    "function",
    "builtin_function_or_method",
    "instance",
    "_Feature"
   ],
   "window_display": false
  },
  "vscode": {
   "interpreter": {
    "hash": "ba21b04416bd6bb7d943d6e1e30db1b014094e2c4596ae230c1b8e6f1c8e2c12"
   }
  }
 },
 "nbformat": 4,
 "nbformat_minor": 4
}
