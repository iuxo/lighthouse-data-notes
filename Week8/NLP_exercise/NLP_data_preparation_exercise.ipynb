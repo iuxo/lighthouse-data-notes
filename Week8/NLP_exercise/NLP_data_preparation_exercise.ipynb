{
 "cells": [
  {
   "cell_type": "markdown",
   "metadata": {},
   "source": [
    "### NLP Data Preperation Exercise"
   ]
  },
  {
   "cell_type": "code",
   "execution_count": 39,
   "metadata": {
    "ExecuteTime": {
     "end_time": "2020-04-29T11:40:03.667630Z",
     "start_time": "2020-04-29T11:40:03.663429Z"
    }
   },
   "outputs": [],
   "source": [
    "# import pandas\n",
    "import pandas as pd"
   ]
  },
  {
   "cell_type": "code",
   "execution_count": 40,
   "metadata": {
    "ExecuteTime": {
     "end_time": "2020-04-29T11:40:04.044904Z",
     "start_time": "2020-04-29T11:40:03.861034Z"
    }
   },
   "outputs": [],
   "source": [
    "# load dataset\n",
    "dataset = pd.read_csv('https://media.geeksforgeeks.org/wp-content/uploads/Restaurant_Reviews.tsv', \n",
    "                      delimiter = '\\t',\n",
    "                      quoting=3)"
   ]
  },
  {
   "cell_type": "markdown",
   "metadata": {},
   "source": [
    "* print top 10 rows"
   ]
  },
  {
   "cell_type": "code",
   "execution_count": 41,
   "metadata": {
    "ExecuteTime": {
     "end_time": "2020-04-29T11:40:04.238480Z",
     "start_time": "2020-04-29T11:40:04.226793Z"
    }
   },
   "outputs": [
    {
     "data": {
      "text/html": [
       "<div>\n",
       "<style scoped>\n",
       "    .dataframe tbody tr th:only-of-type {\n",
       "        vertical-align: middle;\n",
       "    }\n",
       "\n",
       "    .dataframe tbody tr th {\n",
       "        vertical-align: top;\n",
       "    }\n",
       "\n",
       "    .dataframe thead th {\n",
       "        text-align: right;\n",
       "    }\n",
       "</style>\n",
       "<table border=\"1\" class=\"dataframe\">\n",
       "  <thead>\n",
       "    <tr style=\"text-align: right;\">\n",
       "      <th></th>\n",
       "      <th>Review</th>\n",
       "      <th>Liked</th>\n",
       "    </tr>\n",
       "  </thead>\n",
       "  <tbody>\n",
       "    <tr>\n",
       "      <th>0</th>\n",
       "      <td>Wow... Loved this place.</td>\n",
       "      <td>1</td>\n",
       "    </tr>\n",
       "    <tr>\n",
       "      <th>1</th>\n",
       "      <td>Crust is not good.</td>\n",
       "      <td>0</td>\n",
       "    </tr>\n",
       "    <tr>\n",
       "      <th>2</th>\n",
       "      <td>Not tasty and the texture was just nasty.</td>\n",
       "      <td>0</td>\n",
       "    </tr>\n",
       "    <tr>\n",
       "      <th>3</th>\n",
       "      <td>Stopped by during the late May bank holiday of...</td>\n",
       "      <td>1</td>\n",
       "    </tr>\n",
       "    <tr>\n",
       "      <th>4</th>\n",
       "      <td>The selection on the menu was great and so wer...</td>\n",
       "      <td>1</td>\n",
       "    </tr>\n",
       "    <tr>\n",
       "      <th>5</th>\n",
       "      <td>Now I am getting angry and I want my damn pho.</td>\n",
       "      <td>0</td>\n",
       "    </tr>\n",
       "    <tr>\n",
       "      <th>6</th>\n",
       "      <td>Honeslty it didn't taste THAT fresh.)</td>\n",
       "      <td>0</td>\n",
       "    </tr>\n",
       "    <tr>\n",
       "      <th>7</th>\n",
       "      <td>The potatoes were like rubber and you could te...</td>\n",
       "      <td>0</td>\n",
       "    </tr>\n",
       "    <tr>\n",
       "      <th>8</th>\n",
       "      <td>The fries were great too.</td>\n",
       "      <td>1</td>\n",
       "    </tr>\n",
       "    <tr>\n",
       "      <th>9</th>\n",
       "      <td>A great touch.</td>\n",
       "      <td>1</td>\n",
       "    </tr>\n",
       "  </tbody>\n",
       "</table>\n",
       "</div>"
      ],
      "text/plain": [
       "                                              Review  Liked\n",
       "0                           Wow... Loved this place.      1\n",
       "1                                 Crust is not good.      0\n",
       "2          Not tasty and the texture was just nasty.      0\n",
       "3  Stopped by during the late May bank holiday of...      1\n",
       "4  The selection on the menu was great and so wer...      1\n",
       "5     Now I am getting angry and I want my damn pho.      0\n",
       "6              Honeslty it didn't taste THAT fresh.)      0\n",
       "7  The potatoes were like rubber and you could te...      0\n",
       "8                          The fries were great too.      1\n",
       "9                                     A great touch.      1"
      ]
     },
     "execution_count": 41,
     "metadata": {},
     "output_type": "execute_result"
    }
   ],
   "source": [
    "dataset.head(10)"
   ]
  },
  {
   "cell_type": "markdown",
   "metadata": {},
   "source": [
    "* create a function that removes punctuation"
   ]
  },
  {
   "cell_type": "code",
   "execution_count": 84,
   "metadata": {
    "ExecuteTime": {
     "end_time": "2020-04-29T11:40:04.593691Z",
     "start_time": "2020-04-29T11:40:04.588163Z"
    }
   },
   "outputs": [],
   "source": [
    "import string\n",
    "def remove_punc(txt):\n",
    "    table = str.maketrans('', '', string.punctuation)\n",
    "    txt = [w.translate(table) for w in txt]\n",
    "    return txt"
   ]
  },
  {
   "cell_type": "code",
   "execution_count": 85,
   "metadata": {},
   "outputs": [
    {
     "data": {
      "text/plain": [
       "['abc']"
      ]
     },
     "execution_count": 85,
     "metadata": {},
     "output_type": "execute_result"
    }
   ],
   "source": [
    "remove_punc(['abc.'])"
   ]
  },
  {
   "cell_type": "markdown",
   "metadata": {},
   "source": [
    "* create a function that converts text to lowercase"
   ]
  },
  {
   "cell_type": "code",
   "execution_count": 86,
   "metadata": {
    "ExecuteTime": {
     "end_time": "2020-04-29T11:40:04.953719Z",
     "start_time": "2020-04-29T11:40:04.949990Z"
    }
   },
   "outputs": [],
   "source": [
    "def lower(txt):\n",
    "    txt = [word.lower() for word in txt]\n",
    "    return txt"
   ]
  },
  {
   "cell_type": "markdown",
   "metadata": {},
   "source": [
    "* import nltk and download stopwords"
   ]
  },
  {
   "cell_type": "code",
   "execution_count": 87,
   "metadata": {
    "ExecuteTime": {
     "end_time": "2020-04-29T11:40:07.172105Z",
     "start_time": "2020-04-29T11:40:05.315632Z"
    }
   },
   "outputs": [
    {
     "name": "stdout",
     "output_type": "stream",
     "text": [
      "['i', 'me', 'my', 'myself', 'we', 'our', 'ours', 'ourselves', 'you', \"you're\", \"you've\", \"you'll\", \"you'd\", 'your', 'yours', 'yourself', 'yourselves', 'he', 'him', 'his', 'himself', 'she', \"she's\", 'her', 'hers', 'herself', 'it', \"it's\", 'its', 'itself', 'they', 'them', 'their', 'theirs', 'themselves', 'what', 'which', 'who', 'whom', 'this', 'that', \"that'll\", 'these', 'those', 'am', 'is', 'are', 'was', 'were', 'be', 'been', 'being', 'have', 'has', 'had', 'having', 'do', 'does', 'did', 'doing', 'a', 'an', 'the', 'and', 'but', 'if', 'or', 'because', 'as', 'until', 'while', 'of', 'at', 'by', 'for', 'with', 'about', 'against', 'between', 'into', 'through', 'during', 'before', 'after', 'above', 'below', 'to', 'from', 'up', 'down', 'in', 'out', 'on', 'off', 'over', 'under', 'again', 'further', 'then', 'once', 'here', 'there', 'when', 'where', 'why', 'how', 'all', 'any', 'both', 'each', 'few', 'more', 'most', 'other', 'some', 'such', 'no', 'nor', 'not', 'only', 'own', 'same', 'so', 'than', 'too', 'very', 's', 't', 'can', 'will', 'just', 'don', \"don't\", 'should', \"should've\", 'now', 'd', 'll', 'm', 'o', 're', 've', 'y', 'ain', 'aren', \"aren't\", 'couldn', \"couldn't\", 'didn', \"didn't\", 'doesn', \"doesn't\", 'hadn', \"hadn't\", 'hasn', \"hasn't\", 'haven', \"haven't\", 'isn', \"isn't\", 'ma', 'mightn', \"mightn't\", 'mustn', \"mustn't\", 'needn', \"needn't\", 'shan', \"shan't\", 'shouldn', \"shouldn't\", 'wasn', \"wasn't\", 'weren', \"weren't\", 'won', \"won't\", 'wouldn', \"wouldn't\"]\n"
     ]
    }
   ],
   "source": [
    "from nltk.corpus import stopwords\n",
    "stop_words = stopwords.words('english')\n",
    "print(stop_words)"
   ]
  },
  {
   "cell_type": "markdown",
   "metadata": {},
   "source": [
    "* create a function that removes stopwords"
   ]
  },
  {
   "cell_type": "code",
   "execution_count": 88,
   "metadata": {
    "ExecuteTime": {
     "end_time": "2020-04-29T11:40:07.235109Z",
     "start_time": "2020-04-29T11:40:07.225647Z"
    }
   },
   "outputs": [],
   "source": [
    "def remove_stopwords(txt):\n",
    "    txt = [w for w in txt if not w in stop_words]\n",
    "    return txt"
   ]
  },
  {
   "cell_type": "markdown",
   "metadata": {},
   "source": [
    "* import Lemmatizer from nltk and download wordnet"
   ]
  },
  {
   "cell_type": "code",
   "execution_count": 89,
   "metadata": {
    "ExecuteTime": {
     "end_time": "2020-04-29T11:40:07.325675Z",
     "start_time": "2020-04-29T11:40:07.286398Z"
    }
   },
   "outputs": [],
   "source": [
    "from nltk.stem import WordNetLemmatizer\n",
    "\n",
    "lemmatizer = WordNetLemmatizer()"
   ]
  },
  {
   "cell_type": "markdown",
   "metadata": {},
   "source": [
    "* create a function that lemmatizes text"
   ]
  },
  {
   "cell_type": "code",
   "execution_count": 99,
   "metadata": {
    "ExecuteTime": {
     "end_time": "2020-04-29T11:40:07.408715Z",
     "start_time": "2020-04-29T11:40:07.397412Z"
    }
   },
   "outputs": [],
   "source": [
    "def my_lemma(txt):\n",
    "    lemmad = [lemmatizer.lemmatize(word) for word in txt]\n",
    "    return lemmad"
   ]
  },
  {
   "cell_type": "markdown",
   "metadata": {},
   "source": [
    "* import Stemming from nltk"
   ]
  },
  {
   "cell_type": "code",
   "execution_count": 100,
   "metadata": {
    "ExecuteTime": {
     "end_time": "2020-04-29T11:40:07.467033Z",
     "start_time": "2020-04-29T11:40:07.457053Z"
    }
   },
   "outputs": [],
   "source": [
    "from nltk.stem.porter import PorterStemmer\n",
    "porter = PorterStemmer()"
   ]
  },
  {
   "cell_type": "markdown",
   "metadata": {},
   "source": [
    "* create a function thath stems text"
   ]
  },
  {
   "cell_type": "code",
   "execution_count": 101,
   "metadata": {
    "ExecuteTime": {
     "end_time": "2020-04-29T11:40:07.516026Z",
     "start_time": "2020-04-29T11:40:07.509217Z"
    }
   },
   "outputs": [],
   "source": [
    "def my_stemmer(txt):\n",
    "    stemmed = [porter.stem(word) for word in txt]\n",
    "    return stemmed\n"
   ]
  },
  {
   "cell_type": "markdown",
   "metadata": {},
   "source": [
    "* Define a function `'preprocess'` that applies all the preprocessing steps we defined above, **without** Stemming and Lemmatizing, to text."
   ]
  },
  {
   "cell_type": "code",
   "execution_count": 102,
   "metadata": {
    "ExecuteTime": {
     "end_time": "2020-04-29T11:40:07.579774Z",
     "start_time": "2020-04-29T11:40:07.562065Z"
    }
   },
   "outputs": [],
   "source": [
    "def preprocess(txt):\n",
    "    txt = txt.split()\n",
    "    txt = remove_punc(txt)\n",
    "    txt = lower(txt)\n",
    "    txt = remove_stopwords(txt)\n",
    "    \n",
    "    return txt"
   ]
  },
  {
   "cell_type": "markdown",
   "metadata": {},
   "source": [
    "* Create a new column in dataset with name 'Review_clean' and store the preprocessed reviews."
   ]
  },
  {
   "cell_type": "code",
   "execution_count": 103,
   "metadata": {
    "ExecuteTime": {
     "end_time": "2020-04-29T11:40:09.529347Z",
     "start_time": "2020-04-29T11:40:07.810861Z"
    }
   },
   "outputs": [],
   "source": [
    "dataset['Review_clean'] = dataset['Review'].apply(lambda x: preprocess(x))"
   ]
  },
  {
   "cell_type": "markdown",
   "metadata": {},
   "source": [
    "* print top 10 rows of the dataset"
   ]
  },
  {
   "cell_type": "code",
   "execution_count": 104,
   "metadata": {
    "ExecuteTime": {
     "end_time": "2020-04-29T11:40:09.595017Z",
     "start_time": "2020-04-29T11:40:09.579025Z"
    }
   },
   "outputs": [
    {
     "data": {
      "text/html": [
       "<div>\n",
       "<style scoped>\n",
       "    .dataframe tbody tr th:only-of-type {\n",
       "        vertical-align: middle;\n",
       "    }\n",
       "\n",
       "    .dataframe tbody tr th {\n",
       "        vertical-align: top;\n",
       "    }\n",
       "\n",
       "    .dataframe thead th {\n",
       "        text-align: right;\n",
       "    }\n",
       "</style>\n",
       "<table border=\"1\" class=\"dataframe\">\n",
       "  <thead>\n",
       "    <tr style=\"text-align: right;\">\n",
       "      <th></th>\n",
       "      <th>Review</th>\n",
       "      <th>Liked</th>\n",
       "      <th>Review_clean</th>\n",
       "    </tr>\n",
       "  </thead>\n",
       "  <tbody>\n",
       "    <tr>\n",
       "      <th>0</th>\n",
       "      <td>Wow... Loved this place.</td>\n",
       "      <td>1</td>\n",
       "      <td>[wow, loved, place]</td>\n",
       "    </tr>\n",
       "    <tr>\n",
       "      <th>1</th>\n",
       "      <td>Crust is not good.</td>\n",
       "      <td>0</td>\n",
       "      <td>[crust, good]</td>\n",
       "    </tr>\n",
       "    <tr>\n",
       "      <th>2</th>\n",
       "      <td>Not tasty and the texture was just nasty.</td>\n",
       "      <td>0</td>\n",
       "      <td>[tasty, texture, nasty]</td>\n",
       "    </tr>\n",
       "    <tr>\n",
       "      <th>3</th>\n",
       "      <td>Stopped by during the late May bank holiday of...</td>\n",
       "      <td>1</td>\n",
       "      <td>[stopped, late, may, bank, holiday, rick, stev...</td>\n",
       "    </tr>\n",
       "    <tr>\n",
       "      <th>4</th>\n",
       "      <td>The selection on the menu was great and so wer...</td>\n",
       "      <td>1</td>\n",
       "      <td>[selection, menu, great, prices]</td>\n",
       "    </tr>\n",
       "    <tr>\n",
       "      <th>5</th>\n",
       "      <td>Now I am getting angry and I want my damn pho.</td>\n",
       "      <td>0</td>\n",
       "      <td>[getting, angry, want, damn, pho]</td>\n",
       "    </tr>\n",
       "    <tr>\n",
       "      <th>6</th>\n",
       "      <td>Honeslty it didn't taste THAT fresh.)</td>\n",
       "      <td>0</td>\n",
       "      <td>[honeslty, didnt, taste, fresh]</td>\n",
       "    </tr>\n",
       "    <tr>\n",
       "      <th>7</th>\n",
       "      <td>The potatoes were like rubber and you could te...</td>\n",
       "      <td>0</td>\n",
       "      <td>[potatoes, like, rubber, could, tell, made, ah...</td>\n",
       "    </tr>\n",
       "    <tr>\n",
       "      <th>8</th>\n",
       "      <td>The fries were great too.</td>\n",
       "      <td>1</td>\n",
       "      <td>[fries, great]</td>\n",
       "    </tr>\n",
       "    <tr>\n",
       "      <th>9</th>\n",
       "      <td>A great touch.</td>\n",
       "      <td>1</td>\n",
       "      <td>[great, touch]</td>\n",
       "    </tr>\n",
       "  </tbody>\n",
       "</table>\n",
       "</div>"
      ],
      "text/plain": [
       "                                              Review  Liked  \\\n",
       "0                           Wow... Loved this place.      1   \n",
       "1                                 Crust is not good.      0   \n",
       "2          Not tasty and the texture was just nasty.      0   \n",
       "3  Stopped by during the late May bank holiday of...      1   \n",
       "4  The selection on the menu was great and so wer...      1   \n",
       "5     Now I am getting angry and I want my damn pho.      0   \n",
       "6              Honeslty it didn't taste THAT fresh.)      0   \n",
       "7  The potatoes were like rubber and you could te...      0   \n",
       "8                          The fries were great too.      1   \n",
       "9                                     A great touch.      1   \n",
       "\n",
       "                                        Review_clean  \n",
       "0                                [wow, loved, place]  \n",
       "1                                      [crust, good]  \n",
       "2                            [tasty, texture, nasty]  \n",
       "3  [stopped, late, may, bank, holiday, rick, stev...  \n",
       "4                   [selection, menu, great, prices]  \n",
       "5                  [getting, angry, want, damn, pho]  \n",
       "6                    [honeslty, didnt, taste, fresh]  \n",
       "7  [potatoes, like, rubber, could, tell, made, ah...  \n",
       "8                                     [fries, great]  \n",
       "9                                     [great, touch]  "
      ]
     },
     "execution_count": 104,
     "metadata": {},
     "output_type": "execute_result"
    }
   ],
   "source": [
    "dataset.head(10)"
   ]
  },
  {
   "cell_type": "markdown",
   "metadata": {},
   "source": [
    "* apply the lemmatizer function above on the 'Review_clean' column of the dataset.\n",
    "* store the result in a 'Lemmatized' column"
   ]
  },
  {
   "cell_type": "code",
   "execution_count": 105,
   "metadata": {
    "ExecuteTime": {
     "end_time": "2020-04-29T11:40:11.380853Z",
     "start_time": "2020-04-29T11:40:09.630497Z"
    }
   },
   "outputs": [],
   "source": [
    "dataset['Lemmatized'] = dataset['Review_clean'].apply(lambda x: my_lemma(x))"
   ]
  },
  {
   "cell_type": "markdown",
   "metadata": {},
   "source": [
    "* print top 10 rows of the dataset"
   ]
  },
  {
   "cell_type": "code",
   "execution_count": 106,
   "metadata": {
    "ExecuteTime": {
     "end_time": "2020-04-29T11:40:11.433810Z",
     "start_time": "2020-04-29T11:40:11.421811Z"
    }
   },
   "outputs": [
    {
     "data": {
      "text/html": [
       "<div>\n",
       "<style scoped>\n",
       "    .dataframe tbody tr th:only-of-type {\n",
       "        vertical-align: middle;\n",
       "    }\n",
       "\n",
       "    .dataframe tbody tr th {\n",
       "        vertical-align: top;\n",
       "    }\n",
       "\n",
       "    .dataframe thead th {\n",
       "        text-align: right;\n",
       "    }\n",
       "</style>\n",
       "<table border=\"1\" class=\"dataframe\">\n",
       "  <thead>\n",
       "    <tr style=\"text-align: right;\">\n",
       "      <th></th>\n",
       "      <th>Review</th>\n",
       "      <th>Liked</th>\n",
       "      <th>Review_clean</th>\n",
       "      <th>Lemmatized</th>\n",
       "    </tr>\n",
       "  </thead>\n",
       "  <tbody>\n",
       "    <tr>\n",
       "      <th>0</th>\n",
       "      <td>Wow... Loved this place.</td>\n",
       "      <td>1</td>\n",
       "      <td>[wow, loved, place]</td>\n",
       "      <td>[wow, loved, place]</td>\n",
       "    </tr>\n",
       "    <tr>\n",
       "      <th>1</th>\n",
       "      <td>Crust is not good.</td>\n",
       "      <td>0</td>\n",
       "      <td>[crust, good]</td>\n",
       "      <td>[crust, good]</td>\n",
       "    </tr>\n",
       "    <tr>\n",
       "      <th>2</th>\n",
       "      <td>Not tasty and the texture was just nasty.</td>\n",
       "      <td>0</td>\n",
       "      <td>[tasty, texture, nasty]</td>\n",
       "      <td>[tasty, texture, nasty]</td>\n",
       "    </tr>\n",
       "    <tr>\n",
       "      <th>3</th>\n",
       "      <td>Stopped by during the late May bank holiday of...</td>\n",
       "      <td>1</td>\n",
       "      <td>[stopped, late, may, bank, holiday, rick, stev...</td>\n",
       "      <td>[stopped, late, may, bank, holiday, rick, stev...</td>\n",
       "    </tr>\n",
       "    <tr>\n",
       "      <th>4</th>\n",
       "      <td>The selection on the menu was great and so wer...</td>\n",
       "      <td>1</td>\n",
       "      <td>[selection, menu, great, prices]</td>\n",
       "      <td>[selection, menu, great, price]</td>\n",
       "    </tr>\n",
       "    <tr>\n",
       "      <th>5</th>\n",
       "      <td>Now I am getting angry and I want my damn pho.</td>\n",
       "      <td>0</td>\n",
       "      <td>[getting, angry, want, damn, pho]</td>\n",
       "      <td>[getting, angry, want, damn, pho]</td>\n",
       "    </tr>\n",
       "    <tr>\n",
       "      <th>6</th>\n",
       "      <td>Honeslty it didn't taste THAT fresh.)</td>\n",
       "      <td>0</td>\n",
       "      <td>[honeslty, didnt, taste, fresh]</td>\n",
       "      <td>[honeslty, didnt, taste, fresh]</td>\n",
       "    </tr>\n",
       "    <tr>\n",
       "      <th>7</th>\n",
       "      <td>The potatoes were like rubber and you could te...</td>\n",
       "      <td>0</td>\n",
       "      <td>[potatoes, like, rubber, could, tell, made, ah...</td>\n",
       "      <td>[potato, like, rubber, could, tell, made, ahea...</td>\n",
       "    </tr>\n",
       "    <tr>\n",
       "      <th>8</th>\n",
       "      <td>The fries were great too.</td>\n",
       "      <td>1</td>\n",
       "      <td>[fries, great]</td>\n",
       "      <td>[fry, great]</td>\n",
       "    </tr>\n",
       "    <tr>\n",
       "      <th>9</th>\n",
       "      <td>A great touch.</td>\n",
       "      <td>1</td>\n",
       "      <td>[great, touch]</td>\n",
       "      <td>[great, touch]</td>\n",
       "    </tr>\n",
       "  </tbody>\n",
       "</table>\n",
       "</div>"
      ],
      "text/plain": [
       "                                              Review  Liked  \\\n",
       "0                           Wow... Loved this place.      1   \n",
       "1                                 Crust is not good.      0   \n",
       "2          Not tasty and the texture was just nasty.      0   \n",
       "3  Stopped by during the late May bank holiday of...      1   \n",
       "4  The selection on the menu was great and so wer...      1   \n",
       "5     Now I am getting angry and I want my damn pho.      0   \n",
       "6              Honeslty it didn't taste THAT fresh.)      0   \n",
       "7  The potatoes were like rubber and you could te...      0   \n",
       "8                          The fries were great too.      1   \n",
       "9                                     A great touch.      1   \n",
       "\n",
       "                                        Review_clean  \\\n",
       "0                                [wow, loved, place]   \n",
       "1                                      [crust, good]   \n",
       "2                            [tasty, texture, nasty]   \n",
       "3  [stopped, late, may, bank, holiday, rick, stev...   \n",
       "4                   [selection, menu, great, prices]   \n",
       "5                  [getting, angry, want, damn, pho]   \n",
       "6                    [honeslty, didnt, taste, fresh]   \n",
       "7  [potatoes, like, rubber, could, tell, made, ah...   \n",
       "8                                     [fries, great]   \n",
       "9                                     [great, touch]   \n",
       "\n",
       "                                          Lemmatized  \n",
       "0                                [wow, loved, place]  \n",
       "1                                      [crust, good]  \n",
       "2                            [tasty, texture, nasty]  \n",
       "3  [stopped, late, may, bank, holiday, rick, stev...  \n",
       "4                    [selection, menu, great, price]  \n",
       "5                  [getting, angry, want, damn, pho]  \n",
       "6                    [honeslty, didnt, taste, fresh]  \n",
       "7  [potato, like, rubber, could, tell, made, ahea...  \n",
       "8                                       [fry, great]  \n",
       "9                                     [great, touch]  "
      ]
     },
     "execution_count": 106,
     "metadata": {},
     "output_type": "execute_result"
    }
   ],
   "source": [
    "dataset.head(10)"
   ]
  },
  {
   "cell_type": "markdown",
   "metadata": {},
   "source": [
    "* apply stemmer defined above on 'Review_clean' column of the dataset.\n",
    "* store the result in 'Stemmed' column"
   ]
  },
  {
   "cell_type": "code",
   "execution_count": 107,
   "metadata": {
    "ExecuteTime": {
     "end_time": "2020-04-29T11:40:11.677728Z",
     "start_time": "2020-04-29T11:40:11.472960Z"
    }
   },
   "outputs": [],
   "source": [
    "dataset['Stemmed'] = dataset['Review_clean'].apply(lambda x: my_stemmer(x))"
   ]
  },
  {
   "cell_type": "markdown",
   "metadata": {},
   "source": [
    "* print top 10 rows of the dataset"
   ]
  },
  {
   "cell_type": "code",
   "execution_count": 108,
   "metadata": {
    "ExecuteTime": {
     "end_time": "2020-04-29T11:40:11.779253Z",
     "start_time": "2020-04-29T11:40:11.742611Z"
    }
   },
   "outputs": [
    {
     "data": {
      "text/html": [
       "<div>\n",
       "<style scoped>\n",
       "    .dataframe tbody tr th:only-of-type {\n",
       "        vertical-align: middle;\n",
       "    }\n",
       "\n",
       "    .dataframe tbody tr th {\n",
       "        vertical-align: top;\n",
       "    }\n",
       "\n",
       "    .dataframe thead th {\n",
       "        text-align: right;\n",
       "    }\n",
       "</style>\n",
       "<table border=\"1\" class=\"dataframe\">\n",
       "  <thead>\n",
       "    <tr style=\"text-align: right;\">\n",
       "      <th></th>\n",
       "      <th>Review</th>\n",
       "      <th>Liked</th>\n",
       "      <th>Review_clean</th>\n",
       "      <th>Lemmatized</th>\n",
       "      <th>Stemmed</th>\n",
       "    </tr>\n",
       "  </thead>\n",
       "  <tbody>\n",
       "    <tr>\n",
       "      <th>0</th>\n",
       "      <td>Wow... Loved this place.</td>\n",
       "      <td>1</td>\n",
       "      <td>[wow, loved, place]</td>\n",
       "      <td>[wow, loved, place]</td>\n",
       "      <td>[wow, love, place]</td>\n",
       "    </tr>\n",
       "    <tr>\n",
       "      <th>1</th>\n",
       "      <td>Crust is not good.</td>\n",
       "      <td>0</td>\n",
       "      <td>[crust, good]</td>\n",
       "      <td>[crust, good]</td>\n",
       "      <td>[crust, good]</td>\n",
       "    </tr>\n",
       "    <tr>\n",
       "      <th>2</th>\n",
       "      <td>Not tasty and the texture was just nasty.</td>\n",
       "      <td>0</td>\n",
       "      <td>[tasty, texture, nasty]</td>\n",
       "      <td>[tasty, texture, nasty]</td>\n",
       "      <td>[tasti, textur, nasti]</td>\n",
       "    </tr>\n",
       "    <tr>\n",
       "      <th>3</th>\n",
       "      <td>Stopped by during the late May bank holiday of...</td>\n",
       "      <td>1</td>\n",
       "      <td>[stopped, late, may, bank, holiday, rick, stev...</td>\n",
       "      <td>[stopped, late, may, bank, holiday, rick, stev...</td>\n",
       "      <td>[stop, late, may, bank, holiday, rick, steve, ...</td>\n",
       "    </tr>\n",
       "    <tr>\n",
       "      <th>4</th>\n",
       "      <td>The selection on the menu was great and so wer...</td>\n",
       "      <td>1</td>\n",
       "      <td>[selection, menu, great, prices]</td>\n",
       "      <td>[selection, menu, great, price]</td>\n",
       "      <td>[select, menu, great, price]</td>\n",
       "    </tr>\n",
       "    <tr>\n",
       "      <th>5</th>\n",
       "      <td>Now I am getting angry and I want my damn pho.</td>\n",
       "      <td>0</td>\n",
       "      <td>[getting, angry, want, damn, pho]</td>\n",
       "      <td>[getting, angry, want, damn, pho]</td>\n",
       "      <td>[get, angri, want, damn, pho]</td>\n",
       "    </tr>\n",
       "    <tr>\n",
       "      <th>6</th>\n",
       "      <td>Honeslty it didn't taste THAT fresh.)</td>\n",
       "      <td>0</td>\n",
       "      <td>[honeslty, didnt, taste, fresh]</td>\n",
       "      <td>[honeslty, didnt, taste, fresh]</td>\n",
       "      <td>[honeslti, didnt, tast, fresh]</td>\n",
       "    </tr>\n",
       "    <tr>\n",
       "      <th>7</th>\n",
       "      <td>The potatoes were like rubber and you could te...</td>\n",
       "      <td>0</td>\n",
       "      <td>[potatoes, like, rubber, could, tell, made, ah...</td>\n",
       "      <td>[potato, like, rubber, could, tell, made, ahea...</td>\n",
       "      <td>[potato, like, rubber, could, tell, made, ahea...</td>\n",
       "    </tr>\n",
       "    <tr>\n",
       "      <th>8</th>\n",
       "      <td>The fries were great too.</td>\n",
       "      <td>1</td>\n",
       "      <td>[fries, great]</td>\n",
       "      <td>[fry, great]</td>\n",
       "      <td>[fri, great]</td>\n",
       "    </tr>\n",
       "    <tr>\n",
       "      <th>9</th>\n",
       "      <td>A great touch.</td>\n",
       "      <td>1</td>\n",
       "      <td>[great, touch]</td>\n",
       "      <td>[great, touch]</td>\n",
       "      <td>[great, touch]</td>\n",
       "    </tr>\n",
       "  </tbody>\n",
       "</table>\n",
       "</div>"
      ],
      "text/plain": [
       "                                              Review  Liked  \\\n",
       "0                           Wow... Loved this place.      1   \n",
       "1                                 Crust is not good.      0   \n",
       "2          Not tasty and the texture was just nasty.      0   \n",
       "3  Stopped by during the late May bank holiday of...      1   \n",
       "4  The selection on the menu was great and so wer...      1   \n",
       "5     Now I am getting angry and I want my damn pho.      0   \n",
       "6              Honeslty it didn't taste THAT fresh.)      0   \n",
       "7  The potatoes were like rubber and you could te...      0   \n",
       "8                          The fries were great too.      1   \n",
       "9                                     A great touch.      1   \n",
       "\n",
       "                                        Review_clean  \\\n",
       "0                                [wow, loved, place]   \n",
       "1                                      [crust, good]   \n",
       "2                            [tasty, texture, nasty]   \n",
       "3  [stopped, late, may, bank, holiday, rick, stev...   \n",
       "4                   [selection, menu, great, prices]   \n",
       "5                  [getting, angry, want, damn, pho]   \n",
       "6                    [honeslty, didnt, taste, fresh]   \n",
       "7  [potatoes, like, rubber, could, tell, made, ah...   \n",
       "8                                     [fries, great]   \n",
       "9                                     [great, touch]   \n",
       "\n",
       "                                          Lemmatized  \\\n",
       "0                                [wow, loved, place]   \n",
       "1                                      [crust, good]   \n",
       "2                            [tasty, texture, nasty]   \n",
       "3  [stopped, late, may, bank, holiday, rick, stev...   \n",
       "4                    [selection, menu, great, price]   \n",
       "5                  [getting, angry, want, damn, pho]   \n",
       "6                    [honeslty, didnt, taste, fresh]   \n",
       "7  [potato, like, rubber, could, tell, made, ahea...   \n",
       "8                                       [fry, great]   \n",
       "9                                     [great, touch]   \n",
       "\n",
       "                                             Stemmed  \n",
       "0                                 [wow, love, place]  \n",
       "1                                      [crust, good]  \n",
       "2                             [tasti, textur, nasti]  \n",
       "3  [stop, late, may, bank, holiday, rick, steve, ...  \n",
       "4                       [select, menu, great, price]  \n",
       "5                      [get, angri, want, damn, pho]  \n",
       "6                     [honeslti, didnt, tast, fresh]  \n",
       "7  [potato, like, rubber, could, tell, made, ahea...  \n",
       "8                                       [fri, great]  \n",
       "9                                     [great, touch]  "
      ]
     },
     "execution_count": 108,
     "metadata": {},
     "output_type": "execute_result"
    }
   ],
   "source": [
    "dataset.head(10)"
   ]
  },
  {
   "cell_type": "markdown",
   "metadata": {},
   "source": [
    "* Define a function `'preprocess_all'` that applies all the preprocessing steps we defined above, **with** Stemming and Lemmatizing, to text."
   ]
  },
  {
   "cell_type": "code",
   "execution_count": 109,
   "metadata": {},
   "outputs": [],
   "source": [
    "def preprocess_all(txt):\n",
    "    txt = txt.split()\n",
    "    txt = remove_punc(txt)\n",
    "    txt = lower(txt)\n",
    "    txt = remove_stopwords(txt)\n",
    "    txt = my_stemmer(txt)\n",
    "    txt = my_lemma(txt)\n",
    "    return txt"
   ]
  },
  {
   "cell_type": "code",
   "execution_count": 111,
   "metadata": {},
   "outputs": [],
   "source": [
    "dataset['processed'] = dataset['Review'].apply(lambda x: preprocess_all(x))"
   ]
  },
  {
   "cell_type": "code",
   "execution_count": 112,
   "metadata": {},
   "outputs": [
    {
     "data": {
      "text/html": [
       "<div>\n",
       "<style scoped>\n",
       "    .dataframe tbody tr th:only-of-type {\n",
       "        vertical-align: middle;\n",
       "    }\n",
       "\n",
       "    .dataframe tbody tr th {\n",
       "        vertical-align: top;\n",
       "    }\n",
       "\n",
       "    .dataframe thead th {\n",
       "        text-align: right;\n",
       "    }\n",
       "</style>\n",
       "<table border=\"1\" class=\"dataframe\">\n",
       "  <thead>\n",
       "    <tr style=\"text-align: right;\">\n",
       "      <th></th>\n",
       "      <th>Review</th>\n",
       "      <th>Liked</th>\n",
       "      <th>Review_clean</th>\n",
       "      <th>Lemmatized</th>\n",
       "      <th>Stemmed</th>\n",
       "      <th>processed</th>\n",
       "    </tr>\n",
       "  </thead>\n",
       "  <tbody>\n",
       "    <tr>\n",
       "      <th>0</th>\n",
       "      <td>Wow... Loved this place.</td>\n",
       "      <td>1</td>\n",
       "      <td>[wow, loved, place]</td>\n",
       "      <td>[wow, loved, place]</td>\n",
       "      <td>[wow, love, place]</td>\n",
       "      <td>[wow, love, place]</td>\n",
       "    </tr>\n",
       "    <tr>\n",
       "      <th>1</th>\n",
       "      <td>Crust is not good.</td>\n",
       "      <td>0</td>\n",
       "      <td>[crust, good]</td>\n",
       "      <td>[crust, good]</td>\n",
       "      <td>[crust, good]</td>\n",
       "      <td>[crust, good]</td>\n",
       "    </tr>\n",
       "    <tr>\n",
       "      <th>2</th>\n",
       "      <td>Not tasty and the texture was just nasty.</td>\n",
       "      <td>0</td>\n",
       "      <td>[tasty, texture, nasty]</td>\n",
       "      <td>[tasty, texture, nasty]</td>\n",
       "      <td>[tasti, textur, nasti]</td>\n",
       "      <td>[tasti, textur, nasti]</td>\n",
       "    </tr>\n",
       "    <tr>\n",
       "      <th>3</th>\n",
       "      <td>Stopped by during the late May bank holiday of...</td>\n",
       "      <td>1</td>\n",
       "      <td>[stopped, late, may, bank, holiday, rick, stev...</td>\n",
       "      <td>[stopped, late, may, bank, holiday, rick, stev...</td>\n",
       "      <td>[stop, late, may, bank, holiday, rick, steve, ...</td>\n",
       "      <td>[stop, late, may, bank, holiday, rick, steve, ...</td>\n",
       "    </tr>\n",
       "    <tr>\n",
       "      <th>4</th>\n",
       "      <td>The selection on the menu was great and so wer...</td>\n",
       "      <td>1</td>\n",
       "      <td>[selection, menu, great, prices]</td>\n",
       "      <td>[selection, menu, great, price]</td>\n",
       "      <td>[select, menu, great, price]</td>\n",
       "      <td>[select, menu, great, price]</td>\n",
       "    </tr>\n",
       "    <tr>\n",
       "      <th>5</th>\n",
       "      <td>Now I am getting angry and I want my damn pho.</td>\n",
       "      <td>0</td>\n",
       "      <td>[getting, angry, want, damn, pho]</td>\n",
       "      <td>[getting, angry, want, damn, pho]</td>\n",
       "      <td>[get, angri, want, damn, pho]</td>\n",
       "      <td>[get, angri, want, damn, pho]</td>\n",
       "    </tr>\n",
       "    <tr>\n",
       "      <th>6</th>\n",
       "      <td>Honeslty it didn't taste THAT fresh.)</td>\n",
       "      <td>0</td>\n",
       "      <td>[honeslty, didnt, taste, fresh]</td>\n",
       "      <td>[honeslty, didnt, taste, fresh]</td>\n",
       "      <td>[honeslti, didnt, tast, fresh]</td>\n",
       "      <td>[honeslti, didnt, tast, fresh]</td>\n",
       "    </tr>\n",
       "    <tr>\n",
       "      <th>7</th>\n",
       "      <td>The potatoes were like rubber and you could te...</td>\n",
       "      <td>0</td>\n",
       "      <td>[potatoes, like, rubber, could, tell, made, ah...</td>\n",
       "      <td>[potato, like, rubber, could, tell, made, ahea...</td>\n",
       "      <td>[potato, like, rubber, could, tell, made, ahea...</td>\n",
       "      <td>[potato, like, rubber, could, tell, made, ahea...</td>\n",
       "    </tr>\n",
       "    <tr>\n",
       "      <th>8</th>\n",
       "      <td>The fries were great too.</td>\n",
       "      <td>1</td>\n",
       "      <td>[fries, great]</td>\n",
       "      <td>[fry, great]</td>\n",
       "      <td>[fri, great]</td>\n",
       "      <td>[fri, great]</td>\n",
       "    </tr>\n",
       "    <tr>\n",
       "      <th>9</th>\n",
       "      <td>A great touch.</td>\n",
       "      <td>1</td>\n",
       "      <td>[great, touch]</td>\n",
       "      <td>[great, touch]</td>\n",
       "      <td>[great, touch]</td>\n",
       "      <td>[great, touch]</td>\n",
       "    </tr>\n",
       "  </tbody>\n",
       "</table>\n",
       "</div>"
      ],
      "text/plain": [
       "                                              Review  Liked  \\\n",
       "0                           Wow... Loved this place.      1   \n",
       "1                                 Crust is not good.      0   \n",
       "2          Not tasty and the texture was just nasty.      0   \n",
       "3  Stopped by during the late May bank holiday of...      1   \n",
       "4  The selection on the menu was great and so wer...      1   \n",
       "5     Now I am getting angry and I want my damn pho.      0   \n",
       "6              Honeslty it didn't taste THAT fresh.)      0   \n",
       "7  The potatoes were like rubber and you could te...      0   \n",
       "8                          The fries were great too.      1   \n",
       "9                                     A great touch.      1   \n",
       "\n",
       "                                        Review_clean  \\\n",
       "0                                [wow, loved, place]   \n",
       "1                                      [crust, good]   \n",
       "2                            [tasty, texture, nasty]   \n",
       "3  [stopped, late, may, bank, holiday, rick, stev...   \n",
       "4                   [selection, menu, great, prices]   \n",
       "5                  [getting, angry, want, damn, pho]   \n",
       "6                    [honeslty, didnt, taste, fresh]   \n",
       "7  [potatoes, like, rubber, could, tell, made, ah...   \n",
       "8                                     [fries, great]   \n",
       "9                                     [great, touch]   \n",
       "\n",
       "                                          Lemmatized  \\\n",
       "0                                [wow, loved, place]   \n",
       "1                                      [crust, good]   \n",
       "2                            [tasty, texture, nasty]   \n",
       "3  [stopped, late, may, bank, holiday, rick, stev...   \n",
       "4                    [selection, menu, great, price]   \n",
       "5                  [getting, angry, want, damn, pho]   \n",
       "6                    [honeslty, didnt, taste, fresh]   \n",
       "7  [potato, like, rubber, could, tell, made, ahea...   \n",
       "8                                       [fry, great]   \n",
       "9                                     [great, touch]   \n",
       "\n",
       "                                             Stemmed  \\\n",
       "0                                 [wow, love, place]   \n",
       "1                                      [crust, good]   \n",
       "2                             [tasti, textur, nasti]   \n",
       "3  [stop, late, may, bank, holiday, rick, steve, ...   \n",
       "4                       [select, menu, great, price]   \n",
       "5                      [get, angri, want, damn, pho]   \n",
       "6                     [honeslti, didnt, tast, fresh]   \n",
       "7  [potato, like, rubber, could, tell, made, ahea...   \n",
       "8                                       [fri, great]   \n",
       "9                                     [great, touch]   \n",
       "\n",
       "                                           processed  \n",
       "0                                 [wow, love, place]  \n",
       "1                                      [crust, good]  \n",
       "2                             [tasti, textur, nasti]  \n",
       "3  [stop, late, may, bank, holiday, rick, steve, ...  \n",
       "4                       [select, menu, great, price]  \n",
       "5                      [get, angri, want, damn, pho]  \n",
       "6                     [honeslti, didnt, tast, fresh]  \n",
       "7  [potato, like, rubber, could, tell, made, ahea...  \n",
       "8                                       [fri, great]  \n",
       "9                                     [great, touch]  "
      ]
     },
     "execution_count": 112,
     "metadata": {},
     "output_type": "execute_result"
    }
   ],
   "source": [
    "dataset.head(10)"
   ]
  },
  {
   "cell_type": "code",
   "execution_count": null,
   "metadata": {},
   "outputs": [],
   "source": []
  }
 ],
 "metadata": {
  "kernelspec": {
   "display_name": "Python 3.8.13 ('THE_ONE')",
   "language": "python",
   "name": "python3"
  },
  "language_info": {
   "codemirror_mode": {
    "name": "ipython",
    "version": 3
   },
   "file_extension": ".py",
   "mimetype": "text/x-python",
   "name": "python",
   "nbconvert_exporter": "python",
   "pygments_lexer": "ipython3",
   "version": "3.8.13"
  },
  "toc": {
   "base_numbering": 1,
   "nav_menu": {},
   "number_sections": true,
   "sideBar": true,
   "skip_h1_title": false,
   "title_cell": "Table of Contents",
   "title_sidebar": "Contents",
   "toc_cell": false,
   "toc_position": {},
   "toc_section_display": true,
   "toc_window_display": false
  },
  "varInspector": {
   "cols": {
    "lenName": 16,
    "lenType": 16,
    "lenVar": 40
   },
   "kernels_config": {
    "python": {
     "delete_cmd_postfix": "",
     "delete_cmd_prefix": "del ",
     "library": "var_list.py",
     "varRefreshCmd": "print(var_dic_list())"
    },
    "r": {
     "delete_cmd_postfix": ") ",
     "delete_cmd_prefix": "rm(",
     "library": "var_list.r",
     "varRefreshCmd": "cat(var_dic_list()) "
    }
   },
   "types_to_exclude": [
    "module",
    "function",
    "builtin_function_or_method",
    "instance",
    "_Feature"
   ],
   "window_display": false
  },
  "vscode": {
   "interpreter": {
    "hash": "ba21b04416bd6bb7d943d6e1e30db1b014094e2c4596ae230c1b8e6f1c8e2c12"
   }
  }
 },
 "nbformat": 4,
 "nbformat_minor": 2
}
